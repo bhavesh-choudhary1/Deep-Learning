{
  "nbformat": 4,
  "nbformat_minor": 0,
  "metadata": {
    "colab": {
      "provenance": []
    },
    "kernelspec": {
      "name": "python3",
      "display_name": "Python 3"
    },
    "language_info": {
      "name": "python"
    }
  },
  "cells": [
    {
      "cell_type": "code",
      "execution_count": null,
      "metadata": {
        "id": "lLZR7skWaoNA"
      },
      "outputs": [],
      "source": [
        "import numpy as np\n",
        "import pandas as pd\n",
        "import matplotlib.pyplot as plt"
      ]
    },
    {
      "cell_type": "code",
      "source": [
        "df = pd.read_csv('/content/1.ushape.csv',names=['X','Y','class'])"
      ],
      "metadata": {
        "id": "1xxJnqLJaulp"
      },
      "execution_count": null,
      "outputs": []
    },
    {
      "cell_type": "code",
      "source": [
        "df.head()"
      ],
      "metadata": {
        "colab": {
          "base_uri": "https://localhost:8080/",
          "height": 206
        },
        "id": "E8ezhnqHa4pd",
        "outputId": "fb1058cd-3a26-443d-a696-db32e0abc607"
      },
      "execution_count": null,
      "outputs": [
        {
          "output_type": "execute_result",
          "data": {
            "text/plain": [
              "          X         Y  class\n",
              "0  0.031595  0.986988    0.0\n",
              "1  2.115098 -0.046244    1.0\n",
              "2  0.882490 -0.075756    0.0\n",
              "3 -0.055144 -0.037332    1.0\n",
              "4  0.829545 -0.539321    1.0"
            ],
            "text/html": [
              "\n",
              "  <div id=\"df-18d1ad3a-8a5a-49f4-9061-5f461afe0912\" class=\"colab-df-container\">\n",
              "    <div>\n",
              "<style scoped>\n",
              "    .dataframe tbody tr th:only-of-type {\n",
              "        vertical-align: middle;\n",
              "    }\n",
              "\n",
              "    .dataframe tbody tr th {\n",
              "        vertical-align: top;\n",
              "    }\n",
              "\n",
              "    .dataframe thead th {\n",
              "        text-align: right;\n",
              "    }\n",
              "</style>\n",
              "<table border=\"1\" class=\"dataframe\">\n",
              "  <thead>\n",
              "    <tr style=\"text-align: right;\">\n",
              "      <th></th>\n",
              "      <th>X</th>\n",
              "      <th>Y</th>\n",
              "      <th>class</th>\n",
              "    </tr>\n",
              "  </thead>\n",
              "  <tbody>\n",
              "    <tr>\n",
              "      <th>0</th>\n",
              "      <td>0.031595</td>\n",
              "      <td>0.986988</td>\n",
              "      <td>0.0</td>\n",
              "    </tr>\n",
              "    <tr>\n",
              "      <th>1</th>\n",
              "      <td>2.115098</td>\n",
              "      <td>-0.046244</td>\n",
              "      <td>1.0</td>\n",
              "    </tr>\n",
              "    <tr>\n",
              "      <th>2</th>\n",
              "      <td>0.882490</td>\n",
              "      <td>-0.075756</td>\n",
              "      <td>0.0</td>\n",
              "    </tr>\n",
              "    <tr>\n",
              "      <th>3</th>\n",
              "      <td>-0.055144</td>\n",
              "      <td>-0.037332</td>\n",
              "      <td>1.0</td>\n",
              "    </tr>\n",
              "    <tr>\n",
              "      <th>4</th>\n",
              "      <td>0.829545</td>\n",
              "      <td>-0.539321</td>\n",
              "      <td>1.0</td>\n",
              "    </tr>\n",
              "  </tbody>\n",
              "</table>\n",
              "</div>\n",
              "    <div class=\"colab-df-buttons\">\n",
              "\n",
              "  <div class=\"colab-df-container\">\n",
              "    <button class=\"colab-df-convert\" onclick=\"convertToInteractive('df-18d1ad3a-8a5a-49f4-9061-5f461afe0912')\"\n",
              "            title=\"Convert this dataframe to an interactive table.\"\n",
              "            style=\"display:none;\">\n",
              "\n",
              "  <svg xmlns=\"http://www.w3.org/2000/svg\" height=\"24px\" viewBox=\"0 -960 960 960\">\n",
              "    <path d=\"M120-120v-720h720v720H120Zm60-500h600v-160H180v160Zm220 220h160v-160H400v160Zm0 220h160v-160H400v160ZM180-400h160v-160H180v160Zm440 0h160v-160H620v160ZM180-180h160v-160H180v160Zm440 0h160v-160H620v160Z\"/>\n",
              "  </svg>\n",
              "    </button>\n",
              "\n",
              "  <style>\n",
              "    .colab-df-container {\n",
              "      display:flex;\n",
              "      gap: 12px;\n",
              "    }\n",
              "\n",
              "    .colab-df-convert {\n",
              "      background-color: #E8F0FE;\n",
              "      border: none;\n",
              "      border-radius: 50%;\n",
              "      cursor: pointer;\n",
              "      display: none;\n",
              "      fill: #1967D2;\n",
              "      height: 32px;\n",
              "      padding: 0 0 0 0;\n",
              "      width: 32px;\n",
              "    }\n",
              "\n",
              "    .colab-df-convert:hover {\n",
              "      background-color: #E2EBFA;\n",
              "      box-shadow: 0px 1px 2px rgba(60, 64, 67, 0.3), 0px 1px 3px 1px rgba(60, 64, 67, 0.15);\n",
              "      fill: #174EA6;\n",
              "    }\n",
              "\n",
              "    .colab-df-buttons div {\n",
              "      margin-bottom: 4px;\n",
              "    }\n",
              "\n",
              "    [theme=dark] .colab-df-convert {\n",
              "      background-color: #3B4455;\n",
              "      fill: #D2E3FC;\n",
              "    }\n",
              "\n",
              "    [theme=dark] .colab-df-convert:hover {\n",
              "      background-color: #434B5C;\n",
              "      box-shadow: 0px 1px 3px 1px rgba(0, 0, 0, 0.15);\n",
              "      filter: drop-shadow(0px 1px 2px rgba(0, 0, 0, 0.3));\n",
              "      fill: #FFFFFF;\n",
              "    }\n",
              "  </style>\n",
              "\n",
              "    <script>\n",
              "      const buttonEl =\n",
              "        document.querySelector('#df-18d1ad3a-8a5a-49f4-9061-5f461afe0912 button.colab-df-convert');\n",
              "      buttonEl.style.display =\n",
              "        google.colab.kernel.accessAllowed ? 'block' : 'none';\n",
              "\n",
              "      async function convertToInteractive(key) {\n",
              "        const element = document.querySelector('#df-18d1ad3a-8a5a-49f4-9061-5f461afe0912');\n",
              "        const dataTable =\n",
              "          await google.colab.kernel.invokeFunction('convertToInteractive',\n",
              "                                                    [key], {});\n",
              "        if (!dataTable) return;\n",
              "\n",
              "        const docLinkHtml = 'Like what you see? Visit the ' +\n",
              "          '<a target=\"_blank\" href=https://colab.research.google.com/notebooks/data_table.ipynb>data table notebook</a>'\n",
              "          + ' to learn more about interactive tables.';\n",
              "        element.innerHTML = '';\n",
              "        dataTable['output_type'] = 'display_data';\n",
              "        await google.colab.output.renderOutput(dataTable, element);\n",
              "        const docLink = document.createElement('div');\n",
              "        docLink.innerHTML = docLinkHtml;\n",
              "        element.appendChild(docLink);\n",
              "      }\n",
              "    </script>\n",
              "  </div>\n",
              "\n",
              "\n",
              "    <div id=\"df-f271e93b-cd19-4ee1-bf72-66064d2cdb3f\">\n",
              "      <button class=\"colab-df-quickchart\" onclick=\"quickchart('df-f271e93b-cd19-4ee1-bf72-66064d2cdb3f')\"\n",
              "                title=\"Suggest charts\"\n",
              "                style=\"display:none;\">\n",
              "\n",
              "<svg xmlns=\"http://www.w3.org/2000/svg\" height=\"24px\"viewBox=\"0 0 24 24\"\n",
              "     width=\"24px\">\n",
              "    <g>\n",
              "        <path d=\"M19 3H5c-1.1 0-2 .9-2 2v14c0 1.1.9 2 2 2h14c1.1 0 2-.9 2-2V5c0-1.1-.9-2-2-2zM9 17H7v-7h2v7zm4 0h-2V7h2v10zm4 0h-2v-4h2v4z\"/>\n",
              "    </g>\n",
              "</svg>\n",
              "      </button>\n",
              "\n",
              "<style>\n",
              "  .colab-df-quickchart {\n",
              "      --bg-color: #E8F0FE;\n",
              "      --fill-color: #1967D2;\n",
              "      --hover-bg-color: #E2EBFA;\n",
              "      --hover-fill-color: #174EA6;\n",
              "      --disabled-fill-color: #AAA;\n",
              "      --disabled-bg-color: #DDD;\n",
              "  }\n",
              "\n",
              "  [theme=dark] .colab-df-quickchart {\n",
              "      --bg-color: #3B4455;\n",
              "      --fill-color: #D2E3FC;\n",
              "      --hover-bg-color: #434B5C;\n",
              "      --hover-fill-color: #FFFFFF;\n",
              "      --disabled-bg-color: #3B4455;\n",
              "      --disabled-fill-color: #666;\n",
              "  }\n",
              "\n",
              "  .colab-df-quickchart {\n",
              "    background-color: var(--bg-color);\n",
              "    border: none;\n",
              "    border-radius: 50%;\n",
              "    cursor: pointer;\n",
              "    display: none;\n",
              "    fill: var(--fill-color);\n",
              "    height: 32px;\n",
              "    padding: 0;\n",
              "    width: 32px;\n",
              "  }\n",
              "\n",
              "  .colab-df-quickchart:hover {\n",
              "    background-color: var(--hover-bg-color);\n",
              "    box-shadow: 0 1px 2px rgba(60, 64, 67, 0.3), 0 1px 3px 1px rgba(60, 64, 67, 0.15);\n",
              "    fill: var(--button-hover-fill-color);\n",
              "  }\n",
              "\n",
              "  .colab-df-quickchart-complete:disabled,\n",
              "  .colab-df-quickchart-complete:disabled:hover {\n",
              "    background-color: var(--disabled-bg-color);\n",
              "    fill: var(--disabled-fill-color);\n",
              "    box-shadow: none;\n",
              "  }\n",
              "\n",
              "  .colab-df-spinner {\n",
              "    border: 2px solid var(--fill-color);\n",
              "    border-color: transparent;\n",
              "    border-bottom-color: var(--fill-color);\n",
              "    animation:\n",
              "      spin 1s steps(1) infinite;\n",
              "  }\n",
              "\n",
              "  @keyframes spin {\n",
              "    0% {\n",
              "      border-color: transparent;\n",
              "      border-bottom-color: var(--fill-color);\n",
              "      border-left-color: var(--fill-color);\n",
              "    }\n",
              "    20% {\n",
              "      border-color: transparent;\n",
              "      border-left-color: var(--fill-color);\n",
              "      border-top-color: var(--fill-color);\n",
              "    }\n",
              "    30% {\n",
              "      border-color: transparent;\n",
              "      border-left-color: var(--fill-color);\n",
              "      border-top-color: var(--fill-color);\n",
              "      border-right-color: var(--fill-color);\n",
              "    }\n",
              "    40% {\n",
              "      border-color: transparent;\n",
              "      border-right-color: var(--fill-color);\n",
              "      border-top-color: var(--fill-color);\n",
              "    }\n",
              "    60% {\n",
              "      border-color: transparent;\n",
              "      border-right-color: var(--fill-color);\n",
              "    }\n",
              "    80% {\n",
              "      border-color: transparent;\n",
              "      border-right-color: var(--fill-color);\n",
              "      border-bottom-color: var(--fill-color);\n",
              "    }\n",
              "    90% {\n",
              "      border-color: transparent;\n",
              "      border-bottom-color: var(--fill-color);\n",
              "    }\n",
              "  }\n",
              "</style>\n",
              "\n",
              "      <script>\n",
              "        async function quickchart(key) {\n",
              "          const quickchartButtonEl =\n",
              "            document.querySelector('#' + key + ' button');\n",
              "          quickchartButtonEl.disabled = true;  // To prevent multiple clicks.\n",
              "          quickchartButtonEl.classList.add('colab-df-spinner');\n",
              "          try {\n",
              "            const charts = await google.colab.kernel.invokeFunction(\n",
              "                'suggestCharts', [key], {});\n",
              "          } catch (error) {\n",
              "            console.error('Error during call to suggestCharts:', error);\n",
              "          }\n",
              "          quickchartButtonEl.classList.remove('colab-df-spinner');\n",
              "          quickchartButtonEl.classList.add('colab-df-quickchart-complete');\n",
              "        }\n",
              "        (() => {\n",
              "          let quickchartButtonEl =\n",
              "            document.querySelector('#df-f271e93b-cd19-4ee1-bf72-66064d2cdb3f button');\n",
              "          quickchartButtonEl.style.display =\n",
              "            google.colab.kernel.accessAllowed ? 'block' : 'none';\n",
              "        })();\n",
              "      </script>\n",
              "    </div>\n",
              "\n",
              "    </div>\n",
              "  </div>\n"
            ],
            "application/vnd.google.colaboratory.intrinsic+json": {
              "type": "dataframe",
              "variable_name": "df",
              "summary": "{\n  \"name\": \"df\",\n  \"rows\": 100,\n  \"fields\": [\n    {\n      \"column\": \"X\",\n      \"properties\": {\n        \"dtype\": \"number\",\n        \"std\": 0.8910441577790993,\n        \"min\": -1.318500344394381,\n        \"max\": 2.181371683049025,\n        \"num_unique_values\": 100,\n        \"samples\": [\n          -0.8753936535485005,\n          -0.5134668595395712,\n          0.2457559354815964\n        ],\n        \"semantic_type\": \"\",\n        \"description\": \"\"\n      }\n    },\n    {\n      \"column\": \"Y\",\n      \"properties\": {\n        \"dtype\": \"number\",\n        \"std\": 0.5928850846536865,\n        \"min\": -1.0357020680498332,\n        \"max\": 1.5718993127141032,\n        \"num_unique_values\": 100,\n        \"samples\": [\n          0.5054342299267167,\n          0.6786909545326081,\n          0.8496383011786973\n        ],\n        \"semantic_type\": \"\",\n        \"description\": \"\"\n      }\n    },\n    {\n      \"column\": \"class\",\n      \"properties\": {\n        \"dtype\": \"number\",\n        \"std\": 0.502518907629606,\n        \"min\": 0.0,\n        \"max\": 1.0,\n        \"num_unique_values\": 2,\n        \"samples\": [\n          1.0,\n          0.0\n        ],\n        \"semantic_type\": \"\",\n        \"description\": \"\"\n      }\n    }\n  ]\n}"
            }
          },
          "metadata": {},
          "execution_count": 7
        }
      ]
    },
    {
      "cell_type": "code",
      "source": [
        "plt.scatter(df['X'],df['Y'],c=df['class'])"
      ],
      "metadata": {
        "colab": {
          "base_uri": "https://localhost:8080/",
          "height": 447
        },
        "id": "Dt9URFgca5ak",
        "outputId": "3105da2c-d73a-4b7b-abe2-fb287eef347a"
      },
      "execution_count": null,
      "outputs": [
        {
          "output_type": "execute_result",
          "data": {
            "text/plain": [
              "<matplotlib.collections.PathCollection at 0x7a5caa6ab490>"
            ]
          },
          "metadata": {},
          "execution_count": 8
        },
        {
          "output_type": "display_data",
          "data": {
            "text/plain": [
              "<Figure size 640x480 with 1 Axes>"
            ],
            "image/png": "[encoded data removed]"
          },
          "metadata": {}
        }
      ]
    },
    {
      "cell_type": "code",
      "source": [
        "X = df.iloc[:,0:2].values\n",
        "y = df.iloc[:,-1].values"
      ],
      "metadata": {
        "id": "wUd3DN6bbNQk"
      },
      "execution_count": null,
      "outputs": []
    },
    {
      "cell_type": "code",
      "source": [
        "X,y"
      ],
      "metadata": {
        "colab": {
          "base_uri": "https://localhost:8080/"
        },
        "id": "sM9d2GfNbp6a",
        "outputId": "49a82e43-76c9-41e6-f3f5-68213e1a9c2a"
      },
      "execution_count": null,
      "outputs": [
        {
          "output_type": "execute_result",
          "data": {
            "text/plain": [
              "(array([[ 0.03159499,  0.98698776],\n",
              "        [ 2.11509784, -0.04624397],\n",
              "        [ 0.88248972, -0.07575606],\n",
              "        [-0.0551441 , -0.03733246],\n",
              "        [ 0.82954503, -0.53932149],\n",
              "        [ 2.11285708,  0.66208353],\n",
              "        [ 0.5696927 ,  0.33744136],\n",
              "        [ 0.95217454, -0.75307471],\n",
              "        [-0.02922115,  0.39287336],\n",
              "        [ 1.71579557,  0.36069454],\n",
              "        [-0.27883014,  0.61420539],\n",
              "        [ 2.00344509, -0.3091496 ],\n",
              "        [ 1.50009616, -0.74636376],\n",
              "        [ 1.22540835,  1.19793017],\n",
              "        [ 0.46730819,  0.54703192],\n",
              "        [-0.36653222,  1.11971633],\n",
              "        [ 0.30124459,  1.23315697],\n",
              "        [ 0.30430746,  0.82373935],\n",
              "        [-0.23712492,  0.77876034],\n",
              "        [ 1.16339832,  0.55290238],\n",
              "        [-0.59702417,  0.6572361 ],\n",
              "        [ 0.46356735, -0.1951543 ],\n",
              "        [ 0.68451111,  0.75287685],\n",
              "        [ 0.70515699, -0.45892444],\n",
              "        [-0.65805008, -0.12944211],\n",
              "        [-0.74662946, -0.3829632 ],\n",
              "        [ 0.60585226,  0.31252842],\n",
              "        [ 2.18137168, -0.02291747],\n",
              "        [ 1.91980633,  0.17247329],\n",
              "        [ 1.4834364 , -0.10517023],\n",
              "        [ 0.47404723, -0.14575067],\n",
              "        [ 1.05614605, -1.03570207],\n",
              "        [ 1.86500732, -0.01107874],\n",
              "        [ 0.4194721 , -0.32478101],\n",
              "        [ 0.06873258,  0.56648467],\n",
              "        [-0.17332432,  1.00215131],\n",
              "        [ 0.12412421,  1.00062892],\n",
              "        [ 0.18121142,  0.24717743],\n",
              "        [-0.25451559,  0.19317272],\n",
              "        [ 1.02580668, -0.62574566],\n",
              "        [ 1.52002143, -0.04515581],\n",
              "        [ 0.64174037, -0.39369468],\n",
              "        [-0.87615589,  0.0465662 ],\n",
              "        [-1.06964997,  0.13666025],\n",
              "        [ 1.02658765,  0.37782458],\n",
              "        [ 0.93131325,  1.38517841],\n",
              "        [ 0.67680544,  1.57189931],\n",
              "        [-0.36885733,  0.72886601],\n",
              "        [-1.02465495,  0.16190215],\n",
              "        [ 0.77455385,  0.15375803],\n",
              "        [ 1.4045116 , -0.00705701],\n",
              "        [-0.38147174, -0.23488747],\n",
              "        [ 0.72155224,  0.44721658],\n",
              "        [-0.51346686,  0.67869095],\n",
              "        [ 0.32118546,  0.28668667],\n",
              "        [ 0.1953628 ,  0.16085107],\n",
              "        [ 0.52824196,  0.98300993],\n",
              "        [-0.2216539 ,  0.25160139],\n",
              "        [ 0.22334676,  1.32217183],\n",
              "        [-0.10704572,  0.56178326],\n",
              "        [ 0.63651685,  0.75444825],\n",
              "        [-0.37227848,  0.99291317],\n",
              "        [ 0.20718083, -0.09767143],\n",
              "        [ 0.12733142, -0.3796549 ],\n",
              "        [ 0.71435231, -0.79994161],\n",
              "        [ 1.09487814, -0.36841845],\n",
              "        [-0.14814362,  0.96158657],\n",
              "        [ 1.586188  , -0.62984517],\n",
              "        [ 0.74444551,  0.57661371],\n",
              "        [ 2.18011028, -0.69977751],\n",
              "        [ 0.24575594,  0.8496383 ],\n",
              "        [-0.95003581,  0.90361699],\n",
              "        [-0.88230758,  0.07249044],\n",
              "        [ 2.02297079,  0.12325148],\n",
              "        [ 2.14577321,  0.46296362],\n",
              "        [ 0.35536468, -0.67847989],\n",
              "        [ 0.34665026,  1.11570676],\n",
              "        [ 1.7392373 ,  0.45900352],\n",
              "        [ 0.63856467, -0.44718443],\n",
              "        [ 1.2876687 , -0.4910366 ],\n",
              "        [-0.13772607,  1.2453262 ],\n",
              "        [-0.56175303,  1.05486051],\n",
              "        [ 1.29003748, -0.20691405],\n",
              "        [-0.87539365,  0.50543423],\n",
              "        [-0.92858249, -0.45631991],\n",
              "        [ 0.02493632,  0.10747958],\n",
              "        [ 0.1972559 , -0.06801668],\n",
              "        [ 0.73346056,  0.28161929],\n",
              "        [ 1.68294434, -0.2020423 ],\n",
              "        [ 0.50764124, -0.11731979],\n",
              "        [ 1.66760217, -0.42485665],\n",
              "        [-0.82172282,  0.63141066],\n",
              "        [ 0.30170903,  0.78603534],\n",
              "        [ 1.37671505, -0.80915107],\n",
              "        [ 1.17037551,  0.59840653],\n",
              "        [ 1.69945309,  0.58771967],\n",
              "        [ 0.21862323, -0.65252119],\n",
              "        [ 0.95291428, -0.41976564],\n",
              "        [-1.31850034,  0.42311235],\n",
              "        [-1.29681764,  0.18414709]]),\n",
              " array([0., 1., 0., 1., 1., 1., 0., 1., 1., 1., 1., 1., 1., 0., 0., 0., 0.,\n",
              "        0., 0., 0., 0., 1., 0., 1., 0., 0., 0., 1., 1., 1., 1., 1., 1., 1.,\n",
              "        1., 0., 0., 1., 1., 1., 0., 1., 0., 0., 0., 0., 0., 0., 0., 0., 1.,\n",
              "        1., 0., 0., 0., 1., 0., 0., 0., 1., 0., 0., 1., 1., 1., 1., 0., 1.,\n",
              "        0., 1., 0., 0., 0., 1., 1., 1., 0., 1., 1., 1., 0., 0., 1., 0., 0.,\n",
              "        1., 1., 0., 1., 1., 1., 0., 0., 1., 0., 1., 1., 1., 0., 0.]))"
            ]
          },
          "metadata": {},
          "execution_count": 10
        }
      ]
    },
    {
      "cell_type": "code",
      "source": [
        "import tensorflow as tf\n",
        "from tensorflow import keras\n",
        "from keras import Sequential\n",
        "from keras.layers import Dense"
      ],
      "metadata": {
        "id": "OMFrD1fvbqQY"
      },
      "execution_count": null,
      "outputs": []
    },
    {
      "cell_type": "code",
      "source": [
        "model = Sequential()\n",
        "\n",
        "model.add(Dense(10,activation='tanh',input_dim=2))\n",
        "model.add(Dense(10,activation='tanh'))\n",
        "model.add(Dense(10,activation='tanh'))\n",
        "model.add(Dense(10,activation='tanh'))\n",
        "model.add(Dense(1,activation='sigmoid'))"
      ],
      "metadata": {
        "colab": {
          "base_uri": "https://localhost:8080/"
        },
        "id": "XJZVlGQcb8Jk",
        "outputId": "480b48e7-a225-45c7-de7a-1818610bcb60"
      },
      "execution_count": null,
      "outputs": [
        {
          "output_type": "stream",
          "name": "stderr",
          "text": [
            "/usr/local/lib/python3.11/dist-packages/keras/src/layers/core/dense.py:87: UserWarning: Do not pass an `input_shape`/`input_dim` argument to a layer. When using Sequential models, prefer using an `Input(shape)` object as the first layer in the model instead.\n",
            "  super().__init__(activity_regularizer=activity_regularizer, **kwargs)\n"
          ]
        }
      ]
    },
    {
      "cell_type": "code",
      "source": [
        "model.summary()"
      ],
      "metadata": {
        "colab": {
          "base_uri": "https://localhost:8080/",
          "height": 289
        },
        "id": "A7_kBEOgPRY7",
        "outputId": "299e2e78-5a0e-4356-c0cf-02934248bebb"
      },
      "execution_count": null,
      "outputs": [
        {
          "output_type": "display_data",
          "data": {
            "text/plain": [
              "\u001b[1mModel: \"sequential\"\u001b[0m\n"
            ],
            "text/html": [
              "<pre style=\"white-space:pre;overflow-x:auto;line-height:normal;font-family:Menlo,'DejaVu Sans Mono',consolas,'Courier New',monospace\"><span style=\"font-weight: bold\">Model: \"sequential\"</span>\n",
              "</pre>\n"
            ]
          },
          "metadata": {}
        },
        {
          "output_type": "display_data",
          "data": {
            "text/plain": [
              "┏━━━━━━━━━━━━━━━━━━━━━━━━━━━━━━━━━┳━━━━━━━━━━━━━━━━━━━━━━━━┳━━━━━━━━━━━━━━━┓\n",
              "┃\u001b[1m \u001b[0m\u001b[1mLayer (type)                   \u001b[0m\u001b[1m \u001b[0m┃\u001b[1m \u001b[0m\u001b[1mOutput Shape          \u001b[0m\u001b[1m \u001b[0m┃\u001b[1m \u001b[0m\u001b[1m      Param #\u001b[0m\u001b[1m \u001b[0m┃\n",
              "┡━━━━━━━━━━━━━━━━━━━━━━━━━━━━━━━━━╇━━━━━━━━━━━━━━━━━━━━━━━━╇━━━━━━━━━━━━━━━┩\n",
              "│ dense (\u001b[38;5;33mDense\u001b[0m)                   │ (\u001b[38;5;45mNone\u001b[0m, \u001b[38;5;34m10\u001b[0m)             │            \u001b[38;5;34m30\u001b[0m │\n",
              "├─────────────────────────────────┼────────────────────────┼───────────────┤\n",
              "│ dense_1 (\u001b[38;5;33mDense\u001b[0m)                 │ (\u001b[38;5;45mNone\u001b[0m, \u001b[38;5;34m10\u001b[0m)             │           \u001b[38;5;34m110\u001b[0m │\n",
              "├─────────────────────────────────┼────────────────────────┼───────────────┤\n",
              "│ dense_2 (\u001b[38;5;33mDense\u001b[0m)                 │ (\u001b[38;5;45mNone\u001b[0m, \u001b[38;5;34m10\u001b[0m)             │           \u001b[38;5;34m110\u001b[0m │\n",
              "├─────────────────────────────────┼────────────────────────┼───────────────┤\n",
              "│ dense_3 (\u001b[38;5;33mDense\u001b[0m)                 │ (\u001b[38;5;45mNone\u001b[0m, \u001b[38;5;34m10\u001b[0m)             │           \u001b[38;5;34m110\u001b[0m │\n",
              "├─────────────────────────────────┼────────────────────────┼───────────────┤\n",
              "│ dense_4 (\u001b[38;5;33mDense\u001b[0m)                 │ (\u001b[38;5;45mNone\u001b[0m, \u001b[38;5;34m1\u001b[0m)              │            \u001b[38;5;34m11\u001b[0m │\n",
              "└─────────────────────────────────┴────────────────────────┴───────────────┘\n"
            ],
            "text/html": [
              "<pre style=\"white-space:pre;overflow-x:auto;line-height:normal;font-family:Menlo,'DejaVu Sans Mono',consolas,'Courier New',monospace\">┏━━━━━━━━━━━━━━━━━━━━━━━━━━━━━━━━━┳━━━━━━━━━━━━━━━━━━━━━━━━┳━━━━━━━━━━━━━━━┓\n",
              "┃<span style=\"font-weight: bold\"> Layer (type)                    </span>┃<span style=\"font-weight: bold\"> Output Shape           </span>┃<span style=\"font-weight: bold\">       Param # </span>┃\n",
              "┡━━━━━━━━━━━━━━━━━━━━━━━━━━━━━━━━━╇━━━━━━━━━━━━━━━━━━━━━━━━╇━━━━━━━━━━━━━━━┩\n",
              "│ dense (<span style=\"color: #0087ff; text-decoration-color: #0087ff\">Dense</span>)                   │ (<span style=\"color: #00d7ff; text-decoration-color: #00d7ff\">None</span>, <span style=\"color: #00af00; text-decoration-color: #00af00\">10</span>)             │            <span style=\"color: #00af00; text-decoration-color: #00af00\">30</span> │\n",
              "├─────────────────────────────────┼────────────────────────┼───────────────┤\n",
              "│ dense_1 (<span style=\"color: #0087ff; text-decoration-color: #0087ff\">Dense</span>)                 │ (<span style=\"color: #00d7ff; text-decoration-color: #00d7ff\">None</span>, <span style=\"color: #00af00; text-decoration-color: #00af00\">10</span>)             │           <span style=\"color: #00af00; text-decoration-color: #00af00\">110</span> │\n",
              "├─────────────────────────────────┼────────────────────────┼───────────────┤\n",
              "│ dense_2 (<span style=\"color: #0087ff; text-decoration-color: #0087ff\">Dense</span>)                 │ (<span style=\"color: #00d7ff; text-decoration-color: #00d7ff\">None</span>, <span style=\"color: #00af00; text-decoration-color: #00af00\">10</span>)             │           <span style=\"color: #00af00; text-decoration-color: #00af00\">110</span> │\n",
              "├─────────────────────────────────┼────────────────────────┼───────────────┤\n",
              "│ dense_3 (<span style=\"color: #0087ff; text-decoration-color: #0087ff\">Dense</span>)                 │ (<span style=\"color: #00d7ff; text-decoration-color: #00d7ff\">None</span>, <span style=\"color: #00af00; text-decoration-color: #00af00\">10</span>)             │           <span style=\"color: #00af00; text-decoration-color: #00af00\">110</span> │\n",
              "├─────────────────────────────────┼────────────────────────┼───────────────┤\n",
              "│ dense_4 (<span style=\"color: #0087ff; text-decoration-color: #0087ff\">Dense</span>)                 │ (<span style=\"color: #00d7ff; text-decoration-color: #00d7ff\">None</span>, <span style=\"color: #00af00; text-decoration-color: #00af00\">1</span>)              │            <span style=\"color: #00af00; text-decoration-color: #00af00\">11</span> │\n",
              "└─────────────────────────────────┴────────────────────────┴───────────────┘\n",
              "</pre>\n"
            ]
          },
          "metadata": {}
        },
        {
          "output_type": "display_data",
          "data": {
            "text/plain": [
              "\u001b[1m Total params: \u001b[0m\u001b[38;5;34m371\u001b[0m (1.45 KB)\n"
            ],
            "text/html": [
              "<pre style=\"white-space:pre;overflow-x:auto;line-height:normal;font-family:Menlo,'DejaVu Sans Mono',consolas,'Courier New',monospace\"><span style=\"font-weight: bold\"> Total params: </span><span style=\"color: #00af00; text-decoration-color: #00af00\">371</span> (1.45 KB)\n",
              "</pre>\n"
            ]
          },
          "metadata": {}
        },
        {
          "output_type": "display_data",
          "data": {
            "text/plain": [
              "\u001b[1m Trainable params: \u001b[0m\u001b[38;5;34m371\u001b[0m (1.45 KB)\n"
            ],
            "text/html": [
              "<pre style=\"white-space:pre;overflow-x:auto;line-height:normal;font-family:Menlo,'DejaVu Sans Mono',consolas,'Courier New',monospace\"><span style=\"font-weight: bold\"> Trainable params: </span><span style=\"color: #00af00; text-decoration-color: #00af00\">371</span> (1.45 KB)\n",
              "</pre>\n"
            ]
          },
          "metadata": {}
        },
        {
          "output_type": "display_data",
          "data": {
            "text/plain": [
              "\u001b[1m Non-trainable params: \u001b[0m\u001b[38;5;34m0\u001b[0m (0.00 B)\n"
            ],
            "text/html": [
              "<pre style=\"white-space:pre;overflow-x:auto;line-height:normal;font-family:Menlo,'DejaVu Sans Mono',consolas,'Courier New',monospace\"><span style=\"font-weight: bold\"> Non-trainable params: </span><span style=\"color: #00af00; text-decoration-color: #00af00\">0</span> (0.00 B)\n",
              "</pre>\n"
            ]
          },
          "metadata": {}
        }
      ]
    },
    {
      "cell_type": "code",
      "source": [
        "model.get_weights()"
      ],
      "metadata": {
        "colab": {
          "base_uri": "https://localhost:8080/"
        },
        "id": "4etBNX2CPTGj",
        "outputId": "b4282c13-ae19-4311-a1de-02e7193602b2"
      },
      "execution_count": null,
      "outputs": [
        {
          "output_type": "execute_result",
          "data": {
            "text/plain": [
              "[array([[-0.64759374, -0.3405752 ,  0.04370934,  0.10224944,  0.14828843,\n",
              "          0.5058058 , -0.10519266,  0.2739218 , -0.04781103,  0.19393718],\n",
              "        [ 0.07809508, -0.68590117,  0.5824278 , -0.08132792,  0.25762326,\n",
              "          0.10033274,  0.5227104 ,  0.6551053 ,  0.0570547 ,  0.26537985]],\n",
              "       dtype=float32),\n",
              " array([0., 0., 0., 0., 0., 0., 0., 0., 0., 0.], dtype=float32),\n",
              " array([[ 0.15956026, -0.45889047,  0.17179823,  0.41957694, -0.16824782,\n",
              "         -0.1236259 , -0.13733676, -0.19151428,  0.15637237, -0.20539674],\n",
              "        [ 0.13679272, -0.02220494, -0.35969406,  0.01723164,  0.5427675 ,\n",
              "         -0.19337973,  0.00957638,  0.5002618 ,  0.06477284,  0.05163747],\n",
              "        [ 0.06003499,  0.53728163, -0.22386336, -0.5066901 ,  0.06300771,\n",
              "         -0.09339431,  0.04991931,  0.16418314, -0.21881968,  0.21120739],\n",
              "        [-0.46240288,  0.18744516,  0.40294456, -0.3509915 ,  0.03754985,\n",
              "          0.35641372,  0.14831579, -0.22018966, -0.43357405,  0.3614437 ],\n",
              "        [ 0.3013209 , -0.01922792, -0.1120795 , -0.08819547, -0.3143747 ,\n",
              "          0.42610592, -0.19110724,  0.03197849,  0.24218303,  0.00439006],\n",
              "        [ 0.29598892, -0.16952065,  0.16757333,  0.04076701, -0.11641669,\n",
              "         -0.15969005,  0.49080527,  0.50643885,  0.07562488, -0.08052272],\n",
              "        [ 0.1880557 ,  0.3566668 ,  0.5256628 , -0.14185756,  0.5405055 ,\n",
              "         -0.07607335,  0.48028755, -0.26897198, -0.23693436, -0.47754303],\n",
              "        [-0.4873265 , -0.41620165,  0.35906464,  0.0564431 ,  0.03924888,\n",
              "         -0.24398607,  0.3220964 , -0.12047836,  0.44927114, -0.49766666],\n",
              "        [ 0.18408334, -0.37535474, -0.08110526, -0.11905494, -0.20631126,\n",
              "         -0.505764  , -0.5074052 , -0.5099989 ,  0.22990394, -0.4645645 ],\n",
              "        [-0.29821974, -0.06875417, -0.2930845 ,  0.5210577 ,  0.11232054,\n",
              "          0.5302712 , -0.33265883, -0.48371956,  0.16880137,  0.39794308]],\n",
              "       dtype=float32),\n",
              " array([0., 0., 0., 0., 0., 0., 0., 0., 0., 0.], dtype=float32),\n",
              " array([[-0.14932051, -0.39647305, -0.03033203, -0.4558743 ,  0.31302088,\n",
              "         -0.23500857, -0.43361858, -0.33290476,  0.21699733,  0.230259  ],\n",
              "        [ 0.44768465,  0.17522264,  0.53592384, -0.36157805, -0.2347508 ,\n",
              "          0.40742838,  0.08603311,  0.22737968,  0.3232298 ,  0.32334238],\n",
              "        [ 0.34178573, -0.41064203, -0.38035023,  0.11971152,  0.4988904 ,\n",
              "         -0.11927825, -0.40008366,  0.14225155,  0.04433674, -0.42965537],\n",
              "        [-0.2930755 , -0.066874  ,  0.3399353 ,  0.22007424,  0.0269087 ,\n",
              "         -0.15463579, -0.46693492, -0.5085757 ,  0.24846911, -0.18250546],\n",
              "        [-0.22119507, -0.18096009, -0.2614769 , -0.47665164, -0.22769374,\n",
              "         -0.43543714,  0.26833642,  0.3789391 , -0.15288356, -0.47725523],\n",
              "        [-0.38766572, -0.4718882 ,  0.09209651,  0.20093262, -0.537405  ,\n",
              "          0.05824214, -0.44306606, -0.04861945, -0.31644475, -0.34449303],\n",
              "        [ 0.29836392, -0.3358513 , -0.35984945,  0.5234257 ,  0.35948342,\n",
              "         -0.32072645,  0.46289313, -0.5004329 ,  0.1893332 ,  0.20190537],\n",
              "        [ 0.08961743,  0.4245202 , -0.01363486,  0.3019169 ,  0.00275344,\n",
              "          0.43564737,  0.17558914, -0.3669517 ,  0.5155101 , -0.23006272],\n",
              "        [ 0.10706013,  0.02484554,  0.04429287, -0.43824816, -0.5129489 ,\n",
              "          0.06139129,  0.30980045,  0.11507463, -0.42309797,  0.47590065],\n",
              "        [-0.48465   , -0.25381303, -0.10756406, -0.23489419,  0.11213511,\n",
              "         -0.25713673,  0.31738836,  0.23425835, -0.41432694, -0.35951906]],\n",
              "       dtype=float32),\n",
              " array([0., 0., 0., 0., 0., 0., 0., 0., 0., 0.], dtype=float32),\n",
              " array([[ 0.4147448 ,  0.04548132,  0.24620098,  0.04697263, -0.31602192,\n",
              "         -0.3894968 ,  0.17710173,  0.11039621,  0.12667078,  0.24766392],\n",
              "        [ 0.44398797,  0.14494753, -0.33942118,  0.24327683, -0.18997428,\n",
              "         -0.2661373 , -0.11208251, -0.45682654, -0.28914338,  0.47299063],\n",
              "        [ 0.01760548, -0.26521575,  0.02829617, -0.05122533, -0.28255135,\n",
              "         -0.30218253, -0.53945225, -0.547174  ,  0.01862371, -0.35568035],\n",
              "        [ 0.33582848, -0.49901864,  0.12105972,  0.1939795 , -0.32215208,\n",
              "         -0.29407385,  0.3763134 , -0.16657892,  0.05262154,  0.16929668],\n",
              "        [ 0.44091475,  0.21351838,  0.19872206, -0.07346591, -0.27768803,\n",
              "          0.26173365,  0.3234228 ,  0.41871792, -0.5314796 ,  0.35875893],\n",
              "        [-0.00573552, -0.1460374 , -0.04023641, -0.0247134 , -0.53511035,\n",
              "         -0.4987068 ,  0.25880772, -0.09344169, -0.07330281,  0.52397645],\n",
              "        [-0.13403565, -0.50226504, -0.13245699,  0.00492013, -0.18191025,\n",
              "         -0.0683004 ,  0.16064686,  0.01609409,  0.5166546 , -0.4830192 ],\n",
              "        [ 0.14370757,  0.19713199,  0.36167508,  0.26223588,  0.43136322,\n",
              "          0.14865959,  0.40771723, -0.36850426, -0.01367861,  0.34919143],\n",
              "        [ 0.44098788, -0.22976497, -0.22966549, -0.1917556 ,  0.43986392,\n",
              "         -0.3038013 , -0.3778808 ,  0.03897351,  0.50992906,  0.29623008],\n",
              "        [-0.47259873, -0.32240486,  0.51405776,  0.13476288, -0.04360402,\n",
              "         -0.22578168, -0.13168743, -0.04786101, -0.21724898,  0.21433794]],\n",
              "       dtype=float32),\n",
              " array([0., 0., 0., 0., 0., 0., 0., 0., 0., 0.], dtype=float32),\n",
              " array([[-0.30407098],\n",
              "        [ 0.05826175],\n",
              "        [-0.44280848],\n",
              "        [-0.6759536 ],\n",
              "        [-0.48629236],\n",
              "        [-0.17798954],\n",
              "        [-0.40234318],\n",
              "        [-0.67868716],\n",
              "        [-0.44453514],\n",
              "        [ 0.39378196]], dtype=float32),\n",
              " array([0.], dtype=float32)]"
            ]
          },
          "metadata": {},
          "execution_count": 14
        }
      ]
    },
    {
      "cell_type": "code",
      "source": [
        "initial_weights = model.get_weights()"
      ],
      "metadata": {
        "id": "kdQ4AUSZPq0x"
      },
      "execution_count": null,
      "outputs": []
    },
    {
      "cell_type": "code",
      "source": [
        "initial_weights[0] = np.random.randn(2,10)*np.sqrt(1/2)\n",
        "initial_weights[1] = np.zeros(model.get_weights()[1].shape)\n",
        "initial_weights[2] = np.random.randn(10,10)*np.sqrt(1/10)\n",
        "initial_weights[3] = np.zeros(model.get_weights()[3].shape)\n",
        "initial_weights[4] = np.random.randn(10,10)*np.sqrt(1/10)\n",
        "initial_weights[5] = np.zeros(model.get_weights()[5].shape)\n",
        "initial_weights[6] = np.random.randn(10,10)*np.sqrt(1/10)\n",
        "initial_weights[7] = np.zeros(model.get_weights()[7].shape)\n",
        "initial_weights[8] = np.random.randn(10,1)*np.sqrt(1/10)\n",
        "initial_weights[9] = np.zeros(model.get_weights()[9].shape)"
      ],
      "metadata": {
        "id": "UANLUOBoP1kV"
      },
      "execution_count": null,
      "outputs": []
    },
    {
      "cell_type": "code",
      "source": [
        "model.set_weights(initial_weights)"
      ],
      "metadata": {
        "id": "3zJzLMSzQHYQ"
      },
      "execution_count": null,
      "outputs": []
    },
    {
      "cell_type": "code",
      "source": [
        "model.get_weights()"
      ],
      "metadata": {
        "colab": {
          "base_uri": "https://localhost:8080/"
        },
        "id": "k_7UgKQpQmbg",
        "outputId": "18b1a221-ba8c-4c67-c636-bb9f2e3b39f0"
      },
      "execution_count": null,
      "outputs": [
        {
          "output_type": "execute_result",
          "data": {
            "text/plain": [
              "[array([[ 0.6579539 ,  0.44310558,  1.0270169 ,  0.4399609 ,  0.1208559 ,\n",
              "         -0.9711452 ,  0.30421954,  0.68248034,  0.6064518 , -1.9473449 ],\n",
              "        [ 1.3215103 , -0.12958138, -1.2398925 , -0.89314985,  0.6606907 ,\n",
              "         -1.4061067 , -0.9256154 , -0.4849408 , -0.31493643,  0.8693681 ]],\n",
              "       dtype=float32),\n",
              " array([0., 0., 0., 0., 0., 0., 0., 0., 0., 0.], dtype=float32),\n",
              " array([[-0.4206504 , -0.13973601, -0.01462773, -0.15457177, -0.2121891 ,\n",
              "         -0.42313477, -0.08843992,  0.32363522,  0.4612853 ,  0.22178103],\n",
              "        [ 0.2685875 ,  0.19500366,  0.11597895,  0.11294065,  0.17177527,\n",
              "         -0.3677862 , -0.3894485 , -0.258737  , -0.07827344,  0.54553574],\n",
              "        [ 0.0326605 , -0.10731012,  0.1614709 , -0.10852002, -0.6269055 ,\n",
              "          0.70649815, -0.01511531, -0.24095026, -0.38119048, -0.38026348],\n",
              "        [-0.05605214, -0.17032826, -0.02154372,  0.24290414, -0.63361216,\n",
              "          0.0077754 , -0.14739345, -0.20074533,  0.44300845,  0.31961924],\n",
              "        [-0.02531736,  0.07065467, -0.00520074, -0.15772302,  0.25499272,\n",
              "         -0.18863417,  0.10330588,  0.16921832, -0.06985966, -0.0770589 ],\n",
              "        [ 0.01491816,  0.39319137,  0.04450123,  0.22103429, -0.0268415 ,\n",
              "         -0.01881363,  0.13907078,  0.12629905, -0.03740998, -0.19356042],\n",
              "        [ 0.27673692, -0.32723954, -0.2814621 ,  0.07987785, -0.4078689 ,\n",
              "         -0.02392973, -0.00080817,  0.4086887 , -0.2928007 , -0.7183083 ],\n",
              "        [ 0.37386146,  0.01931399, -0.15697247,  0.35005918, -0.17493749,\n",
              "         -0.1385905 ,  0.41317567,  0.06428663, -0.34265056,  0.17382601],\n",
              "        [ 0.03970941,  0.46835768, -0.23727   ,  0.21755056, -0.1748811 ,\n",
              "          0.4745082 , -0.01295432, -0.1844548 ,  0.11840382, -0.15333752],\n",
              "        [ 0.1967793 , -0.05702624, -0.05763102, -0.20010994,  0.50793964,\n",
              "         -0.05364867, -0.33446103, -0.01175973,  0.25605533, -0.2522882 ]],\n",
              "       dtype=float32),\n",
              " array([0., 0., 0., 0., 0., 0., 0., 0., 0., 0.], dtype=float32),\n",
              " array([[ 0.05816039,  0.01984845, -0.5219499 ,  0.03028559, -0.11724371,\n",
              "          0.51392347,  0.01115976, -0.44972858, -0.7634329 ,  0.43952212],\n",
              "        [-0.06242371, -0.29181433, -0.72000915, -0.0559561 , -0.05506229,\n",
              "         -0.21708977, -0.17957927, -0.03085398,  0.1190248 ,  0.365265  ],\n",
              "        [ 0.46112853, -0.3062393 , -0.1163362 ,  0.97803456,  0.45574903,\n",
              "         -0.32082516, -0.7554396 ,  0.14764448,  0.10040027, -0.12660176],\n",
              "        [-0.13100486,  0.10605623,  0.40900376, -0.13706641,  0.17140462,\n",
              "          0.11344039,  0.15846065,  0.38172218, -0.4862826 , -0.19311813],\n",
              "        [-0.23498666,  0.7087866 , -0.19112395, -0.24918605, -0.1584379 ,\n",
              "          0.03990386, -0.18936515,  0.1441443 , -0.22719894,  0.3572385 ],\n",
              "        [-0.7087049 ,  0.23542932, -0.07620899,  0.15437908, -0.14800836,\n",
              "         -0.6104631 ,  0.44525123, -0.13787869,  0.17456515, -0.13245599],\n",
              "        [-0.21623953, -0.2984753 , -0.40207687,  0.15511002,  0.46217483,\n",
              "         -0.6064277 , -0.70879287, -0.24785216,  0.16179028, -0.2351028 ],\n",
              "        [-0.9224103 ,  0.43925807,  0.4790069 ,  0.23669298,  0.00946857,\n",
              "         -0.03620646, -0.2854409 , -0.19045736,  0.20544216,  0.38640782],\n",
              "        [ 0.25766256, -0.14588031, -0.33519003, -0.14166135,  0.4185231 ,\n",
              "          0.03559513,  0.11184622, -0.12997402, -0.2269623 , -0.4502857 ],\n",
              "        [-0.14965262, -0.23146658, -0.29816958, -0.24460874, -0.2629165 ,\n",
              "          0.2954298 , -0.3890887 , -0.28386986,  0.36011916, -0.02271601]],\n",
              "       dtype=float32),\n",
              " array([0., 0., 0., 0., 0., 0., 0., 0., 0., 0.], dtype=float32),\n",
              " array([[-0.08638857, -0.03777168, -0.18473884, -0.22696346, -0.48878744,\n",
              "         -0.42756757,  0.14215825,  0.03536979, -0.12894554,  0.22229607],\n",
              "        [ 0.09272271,  0.415106  , -0.27571344,  0.05394691,  0.3281783 ,\n",
              "          0.07819385,  0.29860556, -0.6202491 , -0.49708414,  0.36363962],\n",
              "        [ 0.07590092, -0.3430401 , -0.01973354, -0.0153531 ,  0.17873682,\n",
              "          0.06538407,  0.5733335 , -0.5476411 ,  0.17898183, -0.1142536 ],\n",
              "        [ 0.07511079, -0.22342853, -0.17001909,  0.01772142, -0.0681926 ,\n",
              "          0.32212085, -0.16070877,  0.07136731, -0.17037868, -0.09643688],\n",
              "        [-0.4925902 , -0.14688538,  0.309119  ,  0.16232769, -0.02329124,\n",
              "         -0.30653328,  0.15774564, -0.1214378 ,  0.15971188, -0.40245822],\n",
              "        [-0.63448364,  0.06739029, -0.14042634, -0.17748784,  0.2424933 ,\n",
              "          0.04625468,  0.7426335 , -0.15403615,  0.3111302 ,  0.16819778],\n",
              "        [ 0.4849234 , -0.46149412, -0.17461826,  0.27832693, -0.3313529 ,\n",
              "         -0.09459717,  0.2497344 ,  0.16789228, -0.502721  , -0.34506375],\n",
              "        [ 0.07009537, -0.05736926,  0.4341192 ,  0.06354918,  0.26477444,\n",
              "         -0.5401288 , -0.21316135, -0.20818344, -0.50931686,  0.3679131 ],\n",
              "        [ 0.3224282 ,  0.71571994,  0.20581849,  0.62934834,  0.09124084,\n",
              "         -0.15460038,  0.26839125, -0.01468717, -0.6291687 ,  0.7073369 ],\n",
              "        [-0.583833  , -0.20433404,  0.55612546, -0.01283213, -0.5215163 ,\n",
              "         -0.03162583, -0.21413714,  0.10320047, -0.19190544,  0.13010049]],\n",
              "       dtype=float32),\n",
              " array([0., 0., 0., 0., 0., 0., 0., 0., 0., 0.], dtype=float32),\n",
              " array([[ 0.10551453],\n",
              "        [ 0.09352412],\n",
              "        [-0.15768255],\n",
              "        [-0.39880282],\n",
              "        [-0.50522405],\n",
              "        [ 0.23378098],\n",
              "        [-0.22138211],\n",
              "        [-0.89381975],\n",
              "        [-0.11153071],\n",
              "        [-0.08690622]], dtype=float32),\n",
              " array([0.], dtype=float32)]"
            ]
          },
          "metadata": {},
          "execution_count": 19
        }
      ]
    },
    {
      "cell_type": "code",
      "source": [
        "model.compile(loss='binary_crossentropy',optimizer='adam',metrics=['accuracy'])"
      ],
      "metadata": {
        "id": "NZ6J8WrZQovD"
      },
      "execution_count": null,
      "outputs": []
    },
    {
      "cell_type": "code",
      "source": [
        "history = model.fit(X,y,epochs=100,validation_split=0.2)"
      ],
      "metadata": {
        "colab": {
          "base_uri": "https://localhost:8080/"
        },
        "id": "1r_r4thqQ9mW",
        "outputId": "158fb519-7390-4163-e945-d0e2863e496f"
      },
      "execution_count": null,
      "outputs": [
        {
          "output_type": "stream",
          "name": "stdout",
          "text": [
            "Epoch 1/100\n",
            "\u001b[1m3/3\u001b[0m \u001b[32m━━━━━━━━━━━━━━━━━━━━\u001b[0m\u001b[37m\u001b[0m \u001b[1m3s\u001b[0m 136ms/step - accuracy: 0.3758 - loss: 0.7074 - val_accuracy: 0.3500 - val_loss: 0.7161\n",
            "Epoch 2/100\n",
            "\u001b[1m3/3\u001b[0m \u001b[32m━━━━━━━━━━━━━━━━━━━━\u001b[0m\u001b[37m\u001b[0m \u001b[1m0s\u001b[0m 58ms/step - accuracy: 0.5461 - loss: 0.6860 - val_accuracy: 0.5000 - val_loss: 0.6927\n",
            "Epoch 3/100\n",
            "\u001b[1m3/3\u001b[0m \u001b[32m━━━━━━━━━━━━━━━━━━━━\u001b[0m\u001b[37m\u001b[0m \u001b[1m0s\u001b[0m 36ms/step - accuracy: 0.6727 - loss: 0.6660 - val_accuracy: 0.7000 - val_loss: 0.6694\n",
            "Epoch 4/100\n",
            "\u001b[1m3/3\u001b[0m \u001b[32m━━━━━━━━━━━━━━━━━━━━\u001b[0m\u001b[37m\u001b[0m \u001b[1m0s\u001b[0m 36ms/step - accuracy: 0.6703 - loss: 0.6497 - val_accuracy: 0.8000 - val_loss: 0.6462\n",
            "Epoch 5/100\n",
            "\u001b[1m3/3\u001b[0m \u001b[32m━━━━━━━━━━━━━━━━━━━━\u001b[0m\u001b[37m\u001b[0m \u001b[1m0s\u001b[0m 35ms/step - accuracy: 0.7617 - loss: 0.6279 - val_accuracy: 0.8500 - val_loss: 0.6235\n",
            "Epoch 6/100\n",
            "\u001b[1m3/3\u001b[0m \u001b[32m━━━━━━━━━━━━━━━━━━━━\u001b[0m\u001b[37m\u001b[0m \u001b[1m0s\u001b[0m 37ms/step - accuracy: 0.7766 - loss: 0.6154 - val_accuracy: 0.8500 - val_loss: 0.6014\n",
            "Epoch 7/100\n",
            "\u001b[1m3/3\u001b[0m \u001b[32m━━━━━━━━━━━━━━━━━━━━\u001b[0m\u001b[37m\u001b[0m \u001b[1m0s\u001b[0m 37ms/step - accuracy: 0.7984 - loss: 0.5951 - val_accuracy: 0.8500 - val_loss: 0.5797\n",
            "Epoch 8/100\n",
            "\u001b[1m3/3\u001b[0m \u001b[32m━━━━━━━━━━━━━━━━━━━━\u001b[0m\u001b[37m\u001b[0m \u001b[1m0s\u001b[0m 35ms/step - accuracy: 0.8266 - loss: 0.5830 - val_accuracy: 0.8500 - val_loss: 0.5582\n",
            "Epoch 9/100\n",
            "\u001b[1m3/3\u001b[0m \u001b[32m━━━━━━━━━━━━━━━━━━━━\u001b[0m\u001b[37m\u001b[0m \u001b[1m0s\u001b[0m 36ms/step - accuracy: 0.8406 - loss: 0.5608 - val_accuracy: 0.8500 - val_loss: 0.5373\n",
            "Epoch 10/100\n",
            "\u001b[1m3/3\u001b[0m \u001b[32m━━━━━━━━━━━━━━━━━━━━\u001b[0m\u001b[37m\u001b[0m \u001b[1m0s\u001b[0m 63ms/step - accuracy: 0.8586 - loss: 0.5461 - val_accuracy: 0.9000 - val_loss: 0.5172\n",
            "Epoch 11/100\n",
            "\u001b[1m3/3\u001b[0m \u001b[32m━━━━━━━━━━━━━━━━━━━━\u001b[0m\u001b[37m\u001b[0m \u001b[1m0s\u001b[0m 34ms/step - accuracy: 0.8469 - loss: 0.5306 - val_accuracy: 0.9000 - val_loss: 0.4979\n",
            "Epoch 12/100\n",
            "\u001b[1m3/3\u001b[0m \u001b[32m━━━━━━━━━━━━━━━━━━━━\u001b[0m\u001b[37m\u001b[0m \u001b[1m0s\u001b[0m 33ms/step - accuracy: 0.8391 - loss: 0.5202 - val_accuracy: 0.9000 - val_loss: 0.4797\n",
            "Epoch 13/100\n",
            "\u001b[1m3/3\u001b[0m \u001b[32m━━━━━━━━━━━━━━━━━━━━\u001b[0m\u001b[37m\u001b[0m \u001b[1m0s\u001b[0m 33ms/step - accuracy: 0.8055 - loss: 0.5296 - val_accuracy: 0.8500 - val_loss: 0.4628\n",
            "Epoch 14/100\n",
            "\u001b[1m3/3\u001b[0m \u001b[32m━━━━━━━━━━━━━━━━━━━━\u001b[0m\u001b[37m\u001b[0m \u001b[1m0s\u001b[0m 34ms/step - accuracy: 0.8508 - loss: 0.4927 - val_accuracy: 0.8500 - val_loss: 0.4468\n",
            "Epoch 15/100\n",
            "\u001b[1m3/3\u001b[0m \u001b[32m━━━━━━━━━━━━━━━━━━━━\u001b[0m\u001b[37m\u001b[0m \u001b[1m0s\u001b[0m 33ms/step - accuracy: 0.8508 - loss: 0.4760 - val_accuracy: 0.8500 - val_loss: 0.4319\n",
            "Epoch 16/100\n",
            "\u001b[1m3/3\u001b[0m \u001b[32m━━━━━━━━━━━━━━━━━━━━\u001b[0m\u001b[37m\u001b[0m \u001b[1m0s\u001b[0m 36ms/step - accuracy: 0.8508 - loss: 0.4650 - val_accuracy: 0.8500 - val_loss: 0.4180\n",
            "Epoch 17/100\n",
            "\u001b[1m3/3\u001b[0m \u001b[32m━━━━━━━━━━━━━━━━━━━━\u001b[0m\u001b[37m\u001b[0m \u001b[1m0s\u001b[0m 35ms/step - accuracy: 0.8508 - loss: 0.4571 - val_accuracy: 0.8500 - val_loss: 0.4051\n",
            "Epoch 18/100\n",
            "\u001b[1m3/3\u001b[0m \u001b[32m━━━━━━━━━━━━━━━━━━━━\u001b[0m\u001b[37m\u001b[0m \u001b[1m0s\u001b[0m 38ms/step - accuracy: 0.8703 - loss: 0.4337 - val_accuracy: 0.8500 - val_loss: 0.3932\n",
            "Epoch 19/100\n",
            "\u001b[1m3/3\u001b[0m \u001b[32m━━━━━━━━━━━━━━━━━━━━\u001b[0m\u001b[37m\u001b[0m \u001b[1m0s\u001b[0m 55ms/step - accuracy: 0.8820 - loss: 0.4260 - val_accuracy: 0.8500 - val_loss: 0.3821\n",
            "Epoch 20/100\n",
            "\u001b[1m3/3\u001b[0m \u001b[32m━━━━━━━━━━━━━━━━━━━━\u001b[0m\u001b[37m\u001b[0m \u001b[1m0s\u001b[0m 43ms/step - accuracy: 0.8391 - loss: 0.4438 - val_accuracy: 0.8500 - val_loss: 0.3723\n",
            "Epoch 21/100\n",
            "\u001b[1m3/3\u001b[0m \u001b[32m━━━━━━━━━━━━━━━━━━━━\u001b[0m\u001b[37m\u001b[0m \u001b[1m0s\u001b[0m 36ms/step - accuracy: 0.8781 - loss: 0.4061 - val_accuracy: 0.8500 - val_loss: 0.3629\n",
            "Epoch 22/100\n",
            "\u001b[1m3/3\u001b[0m \u001b[32m━━━━━━━━━━━━━━━━━━━━\u001b[0m\u001b[37m\u001b[0m \u001b[1m0s\u001b[0m 35ms/step - accuracy: 0.8469 - loss: 0.4300 - val_accuracy: 0.8500 - val_loss: 0.3544\n",
            "Epoch 23/100\n",
            "\u001b[1m3/3\u001b[0m \u001b[32m━━━━━━━━━━━━━━━━━━━━\u001b[0m\u001b[37m\u001b[0m \u001b[1m0s\u001b[0m 37ms/step - accuracy: 0.8508 - loss: 0.4209 - val_accuracy: 0.8500 - val_loss: 0.3466\n",
            "Epoch 24/100\n",
            "\u001b[1m3/3\u001b[0m \u001b[32m━━━━━━━━━━━━━━━━━━━━\u001b[0m\u001b[37m\u001b[0m \u001b[1m0s\u001b[0m 35ms/step - accuracy: 0.8742 - loss: 0.3980 - val_accuracy: 0.8500 - val_loss: 0.3396\n",
            "Epoch 25/100\n",
            "\u001b[1m3/3\u001b[0m \u001b[32m━━━━━━━━━━━━━━━━━━━━\u001b[0m\u001b[37m\u001b[0m \u001b[1m0s\u001b[0m 37ms/step - accuracy: 0.8273 - loss: 0.4438 - val_accuracy: 0.8500 - val_loss: 0.3336\n",
            "Epoch 26/100\n",
            "\u001b[1m3/3\u001b[0m \u001b[32m━━━━━━━━━━━━━━━━━━━━\u001b[0m\u001b[37m\u001b[0m \u001b[1m0s\u001b[0m 35ms/step - accuracy: 0.8742 - loss: 0.3802 - val_accuracy: 0.8500 - val_loss: 0.3275\n",
            "Epoch 27/100\n",
            "\u001b[1m3/3\u001b[0m \u001b[32m━━━━━━━━━━━━━━━━━━━━\u001b[0m\u001b[37m\u001b[0m \u001b[1m0s\u001b[0m 34ms/step - accuracy: 0.8586 - loss: 0.4022 - val_accuracy: 0.8500 - val_loss: 0.3226\n",
            "Epoch 28/100\n",
            "\u001b[1m3/3\u001b[0m \u001b[32m━━━━━━━━━━━━━━━━━━━━\u001b[0m\u001b[37m\u001b[0m \u001b[1m0s\u001b[0m 36ms/step - accuracy: 0.8625 - loss: 0.3923 - val_accuracy: 0.8500 - val_loss: 0.3185\n",
            "Epoch 29/100\n",
            "\u001b[1m3/3\u001b[0m \u001b[32m━━━━━━━━━━━━━━━━━━━━\u001b[0m\u001b[37m\u001b[0m \u001b[1m0s\u001b[0m 35ms/step - accuracy: 0.8547 - loss: 0.3942 - val_accuracy: 0.8500 - val_loss: 0.3145\n",
            "Epoch 30/100\n",
            "\u001b[1m3/3\u001b[0m \u001b[32m━━━━━━━━━━━━━━━━━━━━\u001b[0m\u001b[37m\u001b[0m \u001b[1m0s\u001b[0m 64ms/step - accuracy: 0.8469 - loss: 0.3930 - val_accuracy: 0.8500 - val_loss: 0.3107\n",
            "Epoch 31/100\n",
            "\u001b[1m3/3\u001b[0m \u001b[32m━━━━━━━━━━━━━━━━━━━━\u001b[0m\u001b[37m\u001b[0m \u001b[1m0s\u001b[0m 35ms/step - accuracy: 0.8313 - loss: 0.4210 - val_accuracy: 0.8500 - val_loss: 0.3074\n",
            "Epoch 32/100\n",
            "\u001b[1m3/3\u001b[0m \u001b[32m━━━━━━━━━━━━━━━━━━━━\u001b[0m\u001b[37m\u001b[0m \u001b[1m0s\u001b[0m 34ms/step - accuracy: 0.8547 - loss: 0.3942 - val_accuracy: 0.8500 - val_loss: 0.3038\n",
            "Epoch 33/100\n",
            "\u001b[1m3/3\u001b[0m \u001b[32m━━━━━━━━━━━━━━━━━━━━\u001b[0m\u001b[37m\u001b[0m \u001b[1m0s\u001b[0m 98ms/step - accuracy: 0.8742 - loss: 0.3646 - val_accuracy: 0.8500 - val_loss: 0.3004\n",
            "Epoch 34/100\n",
            "\u001b[1m3/3\u001b[0m \u001b[32m━━━━━━━━━━━━━━━━━━━━\u001b[0m\u001b[37m\u001b[0m \u001b[1m0s\u001b[0m 41ms/step - accuracy: 0.8625 - loss: 0.3792 - val_accuracy: 0.8500 - val_loss: 0.2977\n",
            "Epoch 35/100\n",
            "\u001b[1m3/3\u001b[0m \u001b[32m━━━━━━━━━━━━━━━━━━━━\u001b[0m\u001b[37m\u001b[0m \u001b[1m0s\u001b[0m 35ms/step - accuracy: 0.8313 - loss: 0.4269 - val_accuracy: 0.8500 - val_loss: 0.2956\n",
            "Epoch 36/100\n",
            "\u001b[1m3/3\u001b[0m \u001b[32m━━━━━━━━━━━━━━━━━━━━\u001b[0m\u001b[37m\u001b[0m \u001b[1m0s\u001b[0m 36ms/step - accuracy: 0.8625 - loss: 0.3841 - val_accuracy: 0.8500 - val_loss: 0.2930\n",
            "Epoch 37/100\n",
            "\u001b[1m3/3\u001b[0m \u001b[32m━━━━━━━━━━━━━━━━━━━━\u001b[0m\u001b[37m\u001b[0m \u001b[1m0s\u001b[0m 35ms/step - accuracy: 0.8430 - loss: 0.3904 - val_accuracy: 0.8500 - val_loss: 0.2910\n",
            "Epoch 38/100\n",
            "\u001b[1m3/3\u001b[0m \u001b[32m━━━━━━━━━━━━━━━━━━━━\u001b[0m\u001b[37m\u001b[0m \u001b[1m0s\u001b[0m 40ms/step - accuracy: 0.8664 - loss: 0.3557 - val_accuracy: 0.8500 - val_loss: 0.2890\n",
            "Epoch 39/100\n",
            "\u001b[1m3/3\u001b[0m \u001b[32m━━━━━━━━━━━━━━━━━━━━\u001b[0m\u001b[37m\u001b[0m \u001b[1m0s\u001b[0m 37ms/step - accuracy: 0.8234 - loss: 0.4146 - val_accuracy: 0.8500 - val_loss: 0.2881\n",
            "Epoch 40/100\n",
            "\u001b[1m3/3\u001b[0m \u001b[32m━━━━━━━━━━━━━━━━━━━━\u001b[0m\u001b[37m\u001b[0m \u001b[1m0s\u001b[0m 35ms/step - accuracy: 0.8508 - loss: 0.3777 - val_accuracy: 0.8500 - val_loss: 0.2867\n",
            "Epoch 41/100\n",
            "\u001b[1m3/3\u001b[0m \u001b[32m━━━━━━━━━━━━━━━━━━━━\u001b[0m\u001b[37m\u001b[0m \u001b[1m0s\u001b[0m 37ms/step - accuracy: 0.8430 - loss: 0.3839 - val_accuracy: 0.9000 - val_loss: 0.2859\n",
            "Epoch 42/100\n",
            "\u001b[1m3/3\u001b[0m \u001b[32m━━━━━━━━━━━━━━━━━━━━\u001b[0m\u001b[37m\u001b[0m \u001b[1m0s\u001b[0m 55ms/step - accuracy: 0.8313 - loss: 0.4065 - val_accuracy: 0.9000 - val_loss: 0.2851\n",
            "Epoch 43/100\n",
            "\u001b[1m3/3\u001b[0m \u001b[32m━━━━━━━━━━━━━━━━━━━━\u001b[0m\u001b[37m\u001b[0m \u001b[1m0s\u001b[0m 67ms/step - accuracy: 0.8938 - loss: 0.3232 - val_accuracy: 0.9000 - val_loss: 0.2840\n",
            "Epoch 44/100\n",
            "\u001b[1m3/3\u001b[0m \u001b[32m━━━━━━━━━━━━━━━━━━━━\u001b[0m\u001b[37m\u001b[0m \u001b[1m0s\u001b[0m 50ms/step - accuracy: 0.8820 - loss: 0.3440 - val_accuracy: 0.9000 - val_loss: 0.2838\n",
            "Epoch 45/100\n",
            "\u001b[1m3/3\u001b[0m \u001b[32m━━━━━━━━━━━━━━━━━━━━\u001b[0m\u001b[37m\u001b[0m \u001b[1m0s\u001b[0m 52ms/step - accuracy: 0.8508 - loss: 0.3774 - val_accuracy: 0.9000 - val_loss: 0.2843\n",
            "Epoch 46/100\n",
            "\u001b[1m3/3\u001b[0m \u001b[32m━━━━━━━━━━━━━━━━━━━━\u001b[0m\u001b[37m\u001b[0m \u001b[1m0s\u001b[0m 65ms/step - accuracy: 0.8195 - loss: 0.4228 - val_accuracy: 0.9000 - val_loss: 0.2845\n",
            "Epoch 47/100\n",
            "\u001b[1m3/3\u001b[0m \u001b[32m━━━━━━━━━━━━━━━━━━━━\u001b[0m\u001b[37m\u001b[0m \u001b[1m0s\u001b[0m 49ms/step - accuracy: 0.8508 - loss: 0.3655 - val_accuracy: 0.9000 - val_loss: 0.2841\n",
            "Epoch 48/100\n",
            "\u001b[1m3/3\u001b[0m \u001b[32m━━━━━━━━━━━━━━━━━━━━\u001b[0m\u001b[37m\u001b[0m \u001b[1m0s\u001b[0m 68ms/step - accuracy: 0.8609 - loss: 0.3906 - val_accuracy: 0.9000 - val_loss: 0.2841\n",
            "Epoch 49/100\n",
            "\u001b[1m3/3\u001b[0m \u001b[32m━━━━━━━━━━━━━━━━━━━━\u001b[0m\u001b[37m\u001b[0m \u001b[1m0s\u001b[0m 70ms/step - accuracy: 0.8727 - loss: 0.3608 - val_accuracy: 0.9000 - val_loss: 0.2839\n",
            "Epoch 50/100\n",
            "\u001b[1m3/3\u001b[0m \u001b[32m━━━━━━━━━━━━━━━━━━━━\u001b[0m\u001b[37m\u001b[0m \u001b[1m0s\u001b[0m 56ms/step - accuracy: 0.8492 - loss: 0.3981 - val_accuracy: 0.9000 - val_loss: 0.2836\n",
            "Epoch 51/100\n",
            "\u001b[1m3/3\u001b[0m \u001b[32m━━━━━━━━━━━━━━━━━━━━\u001b[0m\u001b[37m\u001b[0m \u001b[1m0s\u001b[0m 34ms/step - accuracy: 0.8922 - loss: 0.3411 - val_accuracy: 0.9000 - val_loss: 0.2824\n",
            "Epoch 52/100\n",
            "\u001b[1m3/3\u001b[0m \u001b[32m━━━━━━━━━━━━━━━━━━━━\u001b[0m\u001b[37m\u001b[0m \u001b[1m0s\u001b[0m 55ms/step - accuracy: 0.8820 - loss: 0.3308 - val_accuracy: 0.9000 - val_loss: 0.2813\n",
            "Epoch 53/100\n",
            "\u001b[1m3/3\u001b[0m \u001b[32m━━━━━━━━━━━━━━━━━━━━\u001b[0m\u001b[37m\u001b[0m \u001b[1m0s\u001b[0m 36ms/step - accuracy: 0.8391 - loss: 0.4012 - val_accuracy: 0.9000 - val_loss: 0.2807\n",
            "Epoch 54/100\n",
            "\u001b[1m3/3\u001b[0m \u001b[32m━━━━━━━━━━━━━━━━━━━━\u001b[0m\u001b[37m\u001b[0m \u001b[1m0s\u001b[0m 34ms/step - accuracy: 0.8664 - loss: 0.3547 - val_accuracy: 0.9000 - val_loss: 0.2793\n",
            "Epoch 55/100\n",
            "\u001b[1m3/3\u001b[0m \u001b[32m━━━━━━━━━━━━━━━━━━━━\u001b[0m\u001b[37m\u001b[0m \u001b[1m0s\u001b[0m 55ms/step - accuracy: 0.8586 - loss: 0.3617 - val_accuracy: 0.9000 - val_loss: 0.2789\n",
            "Epoch 56/100\n",
            "\u001b[1m3/3\u001b[0m \u001b[32m━━━━━━━━━━━━━━━━━━━━\u001b[0m\u001b[37m\u001b[0m \u001b[1m0s\u001b[0m 34ms/step - accuracy: 0.8547 - loss: 0.3625 - val_accuracy: 0.9000 - val_loss: 0.2786\n",
            "Epoch 57/100\n",
            "\u001b[1m3/3\u001b[0m \u001b[32m━━━━━━━━━━━━━━━━━━━━\u001b[0m\u001b[37m\u001b[0m \u001b[1m0s\u001b[0m 36ms/step - accuracy: 0.8492 - loss: 0.4084 - val_accuracy: 0.9000 - val_loss: 0.2790\n",
            "Epoch 58/100\n",
            "\u001b[1m3/3\u001b[0m \u001b[32m━━━━━━━━━━━━━━━━━━━━\u001b[0m\u001b[37m\u001b[0m \u001b[1m0s\u001b[0m 42ms/step - accuracy: 0.8648 - loss: 0.3538 - val_accuracy: 0.9000 - val_loss: 0.2783\n",
            "Epoch 59/100\n",
            "\u001b[1m3/3\u001b[0m \u001b[32m━━━━━━━━━━━━━━━━━━━━\u001b[0m\u001b[37m\u001b[0m \u001b[1m0s\u001b[0m 39ms/step - accuracy: 0.8570 - loss: 0.3840 - val_accuracy: 0.9000 - val_loss: 0.2782\n",
            "Epoch 60/100\n",
            "\u001b[1m3/3\u001b[0m \u001b[32m━━━━━━━━━━━━━━━━━━━━\u001b[0m\u001b[37m\u001b[0m \u001b[1m0s\u001b[0m 34ms/step - accuracy: 0.8570 - loss: 0.3811 - val_accuracy: 0.9000 - val_loss: 0.2779\n",
            "Epoch 61/100\n",
            "\u001b[1m3/3\u001b[0m \u001b[32m━━━━━━━━━━━━━━━━━━━━\u001b[0m\u001b[37m\u001b[0m \u001b[1m0s\u001b[0m 38ms/step - accuracy: 0.8727 - loss: 0.3612 - val_accuracy: 0.9000 - val_loss: 0.2771\n",
            "Epoch 62/100\n",
            "\u001b[1m3/3\u001b[0m \u001b[32m━━━━━━━━━━━━━━━━━━━━\u001b[0m\u001b[37m\u001b[0m \u001b[1m0s\u001b[0m 65ms/step - accuracy: 0.8297 - loss: 0.4320 - val_accuracy: 0.9000 - val_loss: 0.2768\n",
            "Epoch 63/100\n",
            "\u001b[1m3/3\u001b[0m \u001b[32m━━━━━━━━━━━━━━━━━━━━\u001b[0m\u001b[37m\u001b[0m \u001b[1m0s\u001b[0m 38ms/step - accuracy: 0.8766 - loss: 0.3516 - val_accuracy: 0.9000 - val_loss: 0.2757\n",
            "Epoch 64/100\n",
            "\u001b[1m3/3\u001b[0m \u001b[32m━━━━━━━━━━━━━━━━━━━━\u001b[0m\u001b[37m\u001b[0m \u001b[1m0s\u001b[0m 39ms/step - accuracy: 0.8531 - loss: 0.3761 - val_accuracy: 0.9000 - val_loss: 0.2744\n",
            "Epoch 65/100\n",
            "\u001b[1m3/3\u001b[0m \u001b[32m━━━━━━━━━━━━━━━━━━━━\u001b[0m\u001b[37m\u001b[0m \u001b[1m0s\u001b[0m 36ms/step - accuracy: 0.8609 - loss: 0.3521 - val_accuracy: 0.9000 - val_loss: 0.2733\n",
            "Epoch 66/100\n",
            "\u001b[1m3/3\u001b[0m \u001b[32m━━━━━━━━━━━━━━━━━━━━\u001b[0m\u001b[37m\u001b[0m \u001b[1m0s\u001b[0m 37ms/step - accuracy: 0.8648 - loss: 0.3634 - val_accuracy: 0.9000 - val_loss: 0.2729\n",
            "Epoch 67/100\n",
            "\u001b[1m3/3\u001b[0m \u001b[32m━━━━━━━━━━━━━━━━━━━━\u001b[0m\u001b[37m\u001b[0m \u001b[1m0s\u001b[0m 37ms/step - accuracy: 0.8922 - loss: 0.3299 - val_accuracy: 0.9000 - val_loss: 0.2722\n",
            "Epoch 68/100\n",
            "\u001b[1m3/3\u001b[0m \u001b[32m━━━━━━━━━━━━━━━━━━━━\u001b[0m\u001b[37m\u001b[0m \u001b[1m0s\u001b[0m 35ms/step - accuracy: 0.8805 - loss: 0.3408 - val_accuracy: 0.9000 - val_loss: 0.2721\n",
            "Epoch 69/100\n",
            "\u001b[1m3/3\u001b[0m \u001b[32m━━━━━━━━━━━━━━━━━━━━\u001b[0m\u001b[37m\u001b[0m \u001b[1m0s\u001b[0m 66ms/step - accuracy: 0.8687 - loss: 0.3628 - val_accuracy: 0.9000 - val_loss: 0.2714\n",
            "Epoch 70/100\n",
            "\u001b[1m3/3\u001b[0m \u001b[32m━━━━━━━━━━━━━━━━━━━━\u001b[0m\u001b[37m\u001b[0m \u001b[1m0s\u001b[0m 37ms/step - accuracy: 0.8609 - loss: 0.3729 - val_accuracy: 0.9000 - val_loss: 0.2708\n",
            "Epoch 71/100\n",
            "\u001b[1m3/3\u001b[0m \u001b[32m━━━━━━━━━━━━━━━━━━━━\u001b[0m\u001b[37m\u001b[0m \u001b[1m0s\u001b[0m 36ms/step - accuracy: 0.8687 - loss: 0.3570 - val_accuracy: 0.9000 - val_loss: 0.2709\n",
            "Epoch 72/100\n",
            "\u001b[1m3/3\u001b[0m \u001b[32m━━━━━━━━━━━━━━━━━━━━\u001b[0m\u001b[37m\u001b[0m \u001b[1m0s\u001b[0m 34ms/step - accuracy: 0.8492 - loss: 0.3923 - val_accuracy: 0.9000 - val_loss: 0.2713\n",
            "Epoch 73/100\n",
            "\u001b[1m3/3\u001b[0m \u001b[32m━━━━━━━━━━━━━━━━━━━━\u001b[0m\u001b[37m\u001b[0m \u001b[1m0s\u001b[0m 34ms/step - accuracy: 0.8492 - loss: 0.3808 - val_accuracy: 0.9000 - val_loss: 0.2711\n",
            "Epoch 74/100\n",
            "\u001b[1m3/3\u001b[0m \u001b[32m━━━━━━━━━━━━━━━━━━━━\u001b[0m\u001b[37m\u001b[0m \u001b[1m0s\u001b[0m 39ms/step - accuracy: 0.8961 - loss: 0.3041 - val_accuracy: 0.9000 - val_loss: 0.2696\n",
            "Epoch 75/100\n",
            "\u001b[1m3/3\u001b[0m \u001b[32m━━━━━━━━━━━━━━━━━━━━\u001b[0m\u001b[37m\u001b[0m \u001b[1m0s\u001b[0m 34ms/step - accuracy: 0.8531 - loss: 0.3850 - val_accuracy: 0.9000 - val_loss: 0.2694\n",
            "Epoch 76/100\n",
            "\u001b[1m3/3\u001b[0m \u001b[32m━━━━━━━━━━━━━━━━━━━━\u001b[0m\u001b[37m\u001b[0m \u001b[1m0s\u001b[0m 56ms/step - accuracy: 0.8570 - loss: 0.3652 - val_accuracy: 0.9000 - val_loss: 0.2679\n",
            "Epoch 77/100\n",
            "\u001b[1m3/3\u001b[0m \u001b[32m━━━━━━━━━━━━━━━━━━━━\u001b[0m\u001b[37m\u001b[0m \u001b[1m0s\u001b[0m 35ms/step - accuracy: 0.8961 - loss: 0.3117 - val_accuracy: 0.9000 - val_loss: 0.2665\n",
            "Epoch 78/100\n",
            "\u001b[1m3/3\u001b[0m \u001b[32m━━━━━━━━━━━━━━━━━━━━\u001b[0m\u001b[37m\u001b[0m \u001b[1m0s\u001b[0m 36ms/step - accuracy: 0.8492 - loss: 0.3707 - val_accuracy: 0.9000 - val_loss: 0.2654\n",
            "Epoch 79/100\n",
            "\u001b[1m3/3\u001b[0m \u001b[32m━━━━━━━━━━━━━━━━━━━━\u001b[0m\u001b[37m\u001b[0m \u001b[1m0s\u001b[0m 35ms/step - accuracy: 0.8648 - loss: 0.3681 - val_accuracy: 0.9000 - val_loss: 0.2639\n",
            "Epoch 80/100\n",
            "\u001b[1m3/3\u001b[0m \u001b[32m━━━━━━━━━━━━━━━━━━━━\u001b[0m\u001b[37m\u001b[0m \u001b[1m0s\u001b[0m 34ms/step - accuracy: 0.8570 - loss: 0.3850 - val_accuracy: 0.9000 - val_loss: 0.2619\n",
            "Epoch 81/100\n",
            "\u001b[1m3/3\u001b[0m \u001b[32m━━━━━━━━━━━━━━━━━━━━\u001b[0m\u001b[37m\u001b[0m \u001b[1m0s\u001b[0m 41ms/step - accuracy: 0.8531 - loss: 0.3669 - val_accuracy: 0.9000 - val_loss: 0.2599\n",
            "Epoch 82/100\n",
            "\u001b[1m3/3\u001b[0m \u001b[32m━━━━━━━━━━━━━━━━━━━━\u001b[0m\u001b[37m\u001b[0m \u001b[1m0s\u001b[0m 36ms/step - accuracy: 0.8766 - loss: 0.3291 - val_accuracy: 0.9000 - val_loss: 0.2580\n",
            "Epoch 83/100\n",
            "\u001b[1m3/3\u001b[0m \u001b[32m━━━━━━━━━━━━━━━━━━━━\u001b[0m\u001b[37m\u001b[0m \u001b[1m0s\u001b[0m 35ms/step - accuracy: 0.8609 - loss: 0.3500 - val_accuracy: 0.9000 - val_loss: 0.2569\n",
            "Epoch 84/100\n",
            "\u001b[1m3/3\u001b[0m \u001b[32m━━━━━━━━━━━━━━━━━━━━\u001b[0m\u001b[37m\u001b[0m \u001b[1m0s\u001b[0m 38ms/step - accuracy: 0.8453 - loss: 0.3790 - val_accuracy: 0.9000 - val_loss: 0.2566\n",
            "Epoch 85/100\n",
            "\u001b[1m3/3\u001b[0m \u001b[32m━━━━━━━━━━━━━━━━━━━━\u001b[0m\u001b[37m\u001b[0m \u001b[1m0s\u001b[0m 38ms/step - accuracy: 0.8531 - loss: 0.3757 - val_accuracy: 0.9000 - val_loss: 0.2573\n",
            "Epoch 86/100\n",
            "\u001b[1m3/3\u001b[0m \u001b[32m━━━━━━━━━━━━━━━━━━━━\u001b[0m\u001b[37m\u001b[0m \u001b[1m0s\u001b[0m 36ms/step - accuracy: 0.8687 - loss: 0.3510 - val_accuracy: 0.9000 - val_loss: 0.2565\n",
            "Epoch 87/100\n",
            "\u001b[1m3/3\u001b[0m \u001b[32m━━━━━━━━━━━━━━━━━━━━\u001b[0m\u001b[37m\u001b[0m \u001b[1m0s\u001b[0m 35ms/step - accuracy: 0.8336 - loss: 0.3871 - val_accuracy: 0.9000 - val_loss: 0.2557\n",
            "Epoch 88/100\n",
            "\u001b[1m3/3\u001b[0m \u001b[32m━━━━━━━━━━━━━━━━━━━━\u001b[0m\u001b[37m\u001b[0m \u001b[1m0s\u001b[0m 35ms/step - accuracy: 0.8570 - loss: 0.3637 - val_accuracy: 0.9000 - val_loss: 0.2549\n",
            "Epoch 89/100\n",
            "\u001b[1m3/3\u001b[0m \u001b[32m━━━━━━━━━━━━━━━━━━━━\u001b[0m\u001b[37m\u001b[0m \u001b[1m0s\u001b[0m 36ms/step - accuracy: 0.8727 - loss: 0.3234 - val_accuracy: 0.9000 - val_loss: 0.2542\n",
            "Epoch 90/100\n",
            "\u001b[1m3/3\u001b[0m \u001b[32m━━━━━━━━━━━━━━━━━━━━\u001b[0m\u001b[37m\u001b[0m \u001b[1m0s\u001b[0m 43ms/step - accuracy: 0.8492 - loss: 0.3827 - val_accuracy: 0.9000 - val_loss: 0.2543\n",
            "Epoch 91/100\n",
            "\u001b[1m3/3\u001b[0m \u001b[32m━━━━━━━━━━━━━━━━━━━━\u001b[0m\u001b[37m\u001b[0m \u001b[1m0s\u001b[0m 34ms/step - accuracy: 0.8531 - loss: 0.3622 - val_accuracy: 0.9000 - val_loss: 0.2536\n",
            "Epoch 92/100\n",
            "\u001b[1m3/3\u001b[0m \u001b[32m━━━━━━━━━━━━━━━━━━━━\u001b[0m\u001b[37m\u001b[0m \u001b[1m0s\u001b[0m 38ms/step - accuracy: 0.8805 - loss: 0.3095 - val_accuracy: 0.9000 - val_loss: 0.2521\n",
            "Epoch 93/100\n",
            "\u001b[1m3/3\u001b[0m \u001b[32m━━━━━━━━━━━━━━━━━━━━\u001b[0m\u001b[37m\u001b[0m \u001b[1m0s\u001b[0m 39ms/step - accuracy: 0.8727 - loss: 0.3217 - val_accuracy: 0.9000 - val_loss: 0.2522\n",
            "Epoch 94/100\n",
            "\u001b[1m3/3\u001b[0m \u001b[32m━━━━━━━━━━━━━━━━━━━━\u001b[0m\u001b[37m\u001b[0m \u001b[1m0s\u001b[0m 35ms/step - accuracy: 0.8687 - loss: 0.3306 - val_accuracy: 0.9000 - val_loss: 0.2522\n",
            "Epoch 95/100\n",
            "\u001b[1m3/3\u001b[0m \u001b[32m━━━━━━━━━━━━━━━━━━━━\u001b[0m\u001b[37m\u001b[0m \u001b[1m0s\u001b[0m 36ms/step - accuracy: 0.8531 - loss: 0.3658 - val_accuracy: 0.9000 - val_loss: 0.2517\n",
            "Epoch 96/100\n",
            "\u001b[1m3/3\u001b[0m \u001b[32m━━━━━━━━━━━━━━━━━━━━\u001b[0m\u001b[37m\u001b[0m \u001b[1m0s\u001b[0m 35ms/step - accuracy: 0.8742 - loss: 0.3211 - val_accuracy: 0.9500 - val_loss: 0.2502\n",
            "Epoch 97/100\n",
            "\u001b[1m3/3\u001b[0m \u001b[32m━━━━━━━━━━━━━━━━━━━━\u001b[0m\u001b[37m\u001b[0m \u001b[1m0s\u001b[0m 36ms/step - accuracy: 0.8508 - loss: 0.3471 - val_accuracy: 0.9500 - val_loss: 0.2485\n",
            "Epoch 98/100\n",
            "\u001b[1m3/3\u001b[0m \u001b[32m━━━━━━━━━━━━━━━━━━━━\u001b[0m\u001b[37m\u001b[0m \u001b[1m0s\u001b[0m 34ms/step - accuracy: 0.8273 - loss: 0.3563 - val_accuracy: 0.9500 - val_loss: 0.2474\n",
            "Epoch 99/100\n",
            "\u001b[1m3/3\u001b[0m \u001b[32m━━━━━━━━━━━━━━━━━━━━\u001b[0m\u001b[37m\u001b[0m \u001b[1m0s\u001b[0m 60ms/step - accuracy: 0.8703 - loss: 0.3116 - val_accuracy: 0.9500 - val_loss: 0.2461\n",
            "Epoch 100/100\n",
            "\u001b[1m3/3\u001b[0m \u001b[32m━━━━━━━━━━━━━━━━━━━━\u001b[0m\u001b[37m\u001b[0m \u001b[1m0s\u001b[0m 34ms/step - accuracy: 0.8781 - loss: 0.3007 - val_accuracy: 0.9500 - val_loss: 0.2450\n"
          ]
        }
      ]
    },
    {
      "cell_type": "code",
      "source": [
        "model.get_weights()"
      ],
      "metadata": {
        "colab": {
          "base_uri": "https://localhost:8080/"
        },
        "id": "6ika43TKRDJ6",
        "outputId": "a828c437-288c-419b-db49-eaae2b41cf17"
      },
      "execution_count": null,
      "outputs": [
        {
          "output_type": "execute_result",
          "data": {
            "text/plain": [
              "[array([[ 0.65159553,  0.32259804,  0.9147039 ,  0.36522233,  0.01449789,\n",
              "         -1.1396525 ,  0.40121567,  0.59298706,  0.5581963 , -2.1547332 ],\n",
              "        [ 1.3477993 , -0.04546855, -1.363922  , -0.8024023 ,  0.7007826 ,\n",
              "         -1.4654413 , -0.9401939 , -0.5471091 , -0.26813588,  0.8906088 ]],\n",
              "       dtype=float32),\n",
              " array([-0.10360854,  0.01338561, -0.12430593, -0.05476546,  0.00873287,\n",
              "        -0.31482315,  0.01309439, -0.05823062, -0.04972202,  0.25956827],\n",
              "       dtype=float32),\n",
              " array([[-3.6267704e-01, -9.0960942e-02,  1.5832834e-02, -1.7957133e-01,\n",
              "         -2.7033791e-01, -4.5711842e-01, -7.3139362e-02,  2.4585512e-01,\n",
              "          5.2687436e-01,  1.8006399e-01],\n",
              "        [ 3.5334429e-01,  1.2552366e-01,  6.3175894e-02,  1.6974390e-01,\n",
              "          1.2449596e-01, -2.6929545e-01, -4.5277965e-01, -1.7661645e-01,\n",
              "         -1.5807378e-01,  4.4226691e-01],\n",
              "        [ 7.4724838e-02, -1.5438598e-01,  1.5313569e-01, -7.5718321e-02,\n",
              "         -6.6136491e-01,  8.0460882e-01, -4.2228453e-02, -1.6928899e-01,\n",
              "         -4.5936814e-01, -4.4663525e-01],\n",
              "        [ 6.1830506e-03, -2.3748197e-01, -7.4414596e-02,  2.9874960e-01,\n",
              "         -6.3214707e-01,  1.3159680e-01, -1.9335519e-01, -1.1029512e-01,\n",
              "          3.4092852e-01,  2.4485405e-01],\n",
              "        [-3.6049034e-02,  1.2964524e-01,  2.7032075e-02, -1.9022189e-01,\n",
              "          2.1711971e-01, -2.5093049e-01,  1.2707309e-01,  7.7056400e-02,\n",
              "          7.9422267e-03, -6.0838036e-02],\n",
              "        [-9.4221607e-02,  4.0990302e-01,  7.0188627e-02,  1.8734567e-01,\n",
              "         -2.5789922e-02, -2.0278813e-02,  1.8763922e-01,  1.3897926e-01,\n",
              "         -5.6377005e-02, -7.7278912e-02],\n",
              "        [ 3.3427387e-01, -3.9500725e-01, -3.3476681e-01,  1.3024299e-01,\n",
              "         -3.9377022e-01,  8.3639890e-02, -4.5412283e-02,  5.0235432e-01,\n",
              "         -3.8657007e-01, -7.9251248e-01],\n",
              "        [ 4.3583095e-01, -4.1563127e-02, -1.9132070e-01,  3.9108732e-01,\n",
              "         -2.1412151e-01, -4.1729983e-02,  3.6587906e-01,  1.4965771e-01,\n",
              "         -4.2245942e-01,  8.8569731e-02],\n",
              "        [ 1.0728149e-01,  4.0672681e-01, -2.7451876e-01,  2.5880510e-01,\n",
              "         -2.1047367e-01,  5.6162506e-01, -6.4557210e-02, -1.0171478e-01,\n",
              "          4.6732843e-02, -2.4548562e-01],\n",
              "        [ 2.4062246e-01, -9.4003111e-02, -1.7283741e-01, -1.3448164e-01,\n",
              "          6.5404809e-01, -2.5797287e-02, -3.8677663e-01, -7.6374074e-04,\n",
              "          2.1564615e-01, -2.4282949e-01]], dtype=float32),\n",
              " array([ 0.02189894, -0.02705087, -0.00794681, -0.00763182,  0.1315284 ,\n",
              "        -0.09252837, -0.0397648 ,  0.0203593 ,  0.06805191, -0.05454669],\n",
              "       dtype=float32),\n",
              " array([[ 0.11569048,  0.11366579, -0.44073436,  0.15856604, -0.23505244,\n",
              "          0.37664726,  0.08683711, -0.57139784, -0.8536879 ,  0.5758087 ],\n",
              "        [-0.14952669, -0.454056  , -0.84684354, -0.20692837,  0.10920762,\n",
              "         -0.06770144, -0.27187192,  0.12064464,  0.25256148,  0.14362852],\n",
              "        [ 0.3934405 , -0.43985257, -0.22654644,  0.8235403 ,  0.6120664 ,\n",
              "         -0.16232333, -0.8687582 ,  0.30121702,  0.22261512, -0.3117068 ],\n",
              "        [-0.07794997,  0.15805802,  0.44595268, -0.0467953 ,  0.10693979,\n",
              "          0.00379838,  0.14348467,  0.3146285 , -0.5275244 , -0.10995758],\n",
              "        [-0.28524178,  0.68376726, -0.1963417 , -0.3070837 , -0.13048722,\n",
              "          0.12403233, -0.12649539,  0.16941974, -0.21625717,  0.30054358],\n",
              "        [-0.65747243,  0.28898206, -0.02816479,  0.25905693, -0.22527516,\n",
              "         -0.7330377 ,  0.46435264, -0.22373377,  0.12440775, -0.04297253],\n",
              "        [-0.18739295, -0.3689316 , -0.48883167,  0.0807033 ,  0.5713298 ,\n",
              "         -0.5584964 , -0.92790204, -0.12995847,  0.26813874, -0.32010543],\n",
              "        [-0.9598264 ,  0.38403532,  0.41627172,  0.16357192,  0.08609434,\n",
              "          0.0337486 , -0.38144013, -0.10558373,  0.27089393,  0.33940622],\n",
              "        [ 0.20521525, -0.19107583, -0.36733654, -0.23075421,  0.47748372,\n",
              "          0.14645027,  0.1325258 , -0.06640977, -0.19319633, -0.52769554],\n",
              "        [-0.20868948, -0.30745536, -0.37296787, -0.364389  , -0.16339232,\n",
              "          0.424356  , -0.42736918, -0.17411225,  0.42445573, -0.13271117]],\n",
              "       dtype=float32),\n",
              " array([ 0.05682769,  0.07797475,  0.00220082, -0.02617337,  0.00448385,\n",
              "         0.0310149 , -0.09115519,  0.03144957, -0.02765576,  0.05244533],\n",
              "       dtype=float32),\n",
              " array([[-0.18690597, -0.09944288, -0.11294899, -0.14316978, -0.40339312,\n",
              "         -0.5016054 ,  0.24905573,  0.11390021, -0.0456414 ,  0.32184932],\n",
              "        [ 0.16873223,  0.4096286 , -0.35817572, -0.03351226,  0.2650972 ,\n",
              "          0.12900977,  0.22332124, -0.69230086, -0.58908117,  0.28949544],\n",
              "        [ 0.17252226, -0.2733769 , -0.10235076, -0.11427146,  0.08292498,\n",
              "          0.14073132,  0.4545558 , -0.64068097,  0.07183173, -0.20193137],\n",
              "        [ 0.14733127, -0.16361053, -0.2128644 , -0.04404838, -0.13366507,\n",
              "          0.36760092, -0.25495404,  0.0126239 , -0.23267081, -0.15609623],\n",
              "        [-0.65287954, -0.24317099,  0.45849252,  0.32250133,  0.12554969,\n",
              "         -0.4413646 ,  0.32646444,  0.02809279,  0.33434573, -0.24423675],\n",
              "        [-0.70316064,  0.01580244, -0.10649096, -0.12712972,  0.29827383,\n",
              "          0.00643669,  0.8264926 , -0.10616721,  0.35739946,  0.22566198],\n",
              "        [ 0.5975042 , -0.39659956, -0.27213767,  0.17212434, -0.43277177,\n",
              "         -0.00524364,  0.12986635,  0.06930513, -0.61375165, -0.45916831],\n",
              "        [-0.05400835, -0.13302805,  0.53731394,  0.18568218,  0.38290846,\n",
              "         -0.63310945, -0.0654896 , -0.09299657, -0.37359583,  0.47899857],\n",
              "        [ 0.1923243 ,  0.6341827 ,  0.32691336,  0.76103485,  0.2120524 ,\n",
              "         -0.2619466 ,  0.40609494,  0.1071725 , -0.4895323 ,  0.8393477 ],\n",
              "        [-0.5123617 , -0.21190773,  0.49429289, -0.08701514, -0.57311755,\n",
              "          0.00501128, -0.28839153,  0.0430357 , -0.26844633,  0.07470713]],\n",
              "       dtype=float32),\n",
              " array([-0.02268018,  0.018841  , -0.01104173, -0.02980923, -0.01020467,\n",
              "        -0.01617363, -0.01347375, -0.03400656, -0.04140062,  0.03815918],\n",
              "       dtype=float32),\n",
              " array([[ 2.0598325e-01],\n",
              "        [ 7.2081445e-04],\n",
              "        [-3.0095023e-01],\n",
              "        [-5.6904066e-01],\n",
              "        [-6.4105302e-01],\n",
              "        [ 3.6218557e-01],\n",
              "        [-3.0319092e-01],\n",
              "        [-1.0070292e+00],\n",
              "        [-2.1887019e-01],\n",
              "        [-1.8412071e-01]], dtype=float32),\n",
              " array([0.03553029], dtype=float32)]"
            ]
          },
          "metadata": {},
          "execution_count": 22
        }
      ]
    },
    {
      "cell_type": "code",
      "source": [
        "from mlxtend.plotting import plot_decision_regions\n",
        "plot_decision_regions(X,y.astype('int'), clf=model, legend=2)"
      ],
      "metadata": {
        "colab": {
          "base_uri": "https://localhost:8080/",
          "height": 465
        },
        "id": "PVgQCYQWRQna",
        "outputId": "32ec3869-6304-4b95-af83-d4f8aa0449b9"
      },
      "execution_count": null,
      "outputs": [
        {
          "output_type": "stream",
          "name": "stdout",
          "text": [
            "\u001b[1m9600/9600\u001b[0m \u001b[32m━━━━━━━━━━━━━━━━━━━━\u001b[0m\u001b[37m\u001b[0m \u001b[1m12s\u001b[0m 1ms/step\n"
          ]
        },
        {
          "output_type": "execute_result",
          "data": {
            "text/plain": [
              "<Axes: >"
            ]
          },
          "metadata": {},
          "execution_count": 24
        },
        {
          "output_type": "display_data",
          "data": {
            "text/plain": [
              "<Figure size 640x480 with 1 Axes>"
            ],
            "image/png": "[encoded data removed]"
          },
          "metadata": {}
        }
      ]
    },
    {
      "cell_type": "markdown",
      "source": [
        "#He Weights Initialization"
      ],
      "metadata": {
        "id": "RLZ3G9KMRj9R"
      }
    },
    {
      "cell_type": "code",
      "source": [
        "import tensorflow as tf\n",
        "from tensorflow import keras\n",
        "from keras import Sequential\n",
        "from keras.layers import Dense"
      ],
      "metadata": {
        "id": "oBS1-2wBWClv"
      },
      "execution_count": null,
      "outputs": []
    },
    {
      "cell_type": "code",
      "source": [
        "model = Sequential()\n",
        "\n",
        "model.add(Dense(10,activation='relu',input_dim=2,kernel_initializer='he_normal'))\n",
        "model.add(Dense(10,activation='relu',kernel_initializer='he_normal'))\n",
        "model.add(Dense(10,activation='relu',kernel_initializer='he_normal'))\n",
        "model.add(Dense(10,activation='relu',kernel_initializer='he_normal'))\n",
        "model.add(Dense(1,activation='sigmoid'))"
      ],
      "metadata": {
        "id": "W1KrssHaWoy8"
      },
      "execution_count": null,
      "outputs": []
    },
    {
      "cell_type": "code",
      "source": [
        "model.summary()"
      ],
      "metadata": {
        "colab": {
          "base_uri": "https://localhost:8080/",
          "height": 289
        },
        "id": "WtK3WplyXEBV",
        "outputId": "d5465e13-ebb9-4f22-9a57-8c6dca0e8b59"
      },
      "execution_count": null,
      "outputs": [
        {
          "output_type": "display_data",
          "data": {
            "text/plain": [
              "\u001b[1mModel: \"sequential_4\"\u001b[0m\n"
            ],
            "text/html": [
              "<pre style=\"white-space:pre;overflow-x:auto;line-height:normal;font-family:Menlo,'DejaVu Sans Mono',consolas,'Courier New',monospace\"><span style=\"font-weight: bold\">Model: \"sequential_4\"</span>\n",
              "</pre>\n"
            ]
          },
          "metadata": {}
        },
        {
          "output_type": "display_data",
          "data": {
            "text/plain": [
              "┏━━━━━━━━━━━━━━━━━━━━━━━━━━━━━━━━━┳━━━━━━━━━━━━━━━━━━━━━━━━┳━━━━━━━━━━━━━━━┓\n",
              "┃\u001b[1m \u001b[0m\u001b[1mLayer (type)                   \u001b[0m\u001b[1m \u001b[0m┃\u001b[1m \u001b[0m\u001b[1mOutput Shape          \u001b[0m\u001b[1m \u001b[0m┃\u001b[1m \u001b[0m\u001b[1m      Param #\u001b[0m\u001b[1m \u001b[0m┃\n",
              "┡━━━━━━━━━━━━━━━━━━━━━━━━━━━━━━━━━╇━━━━━━━━━━━━━━━━━━━━━━━━╇━━━━━━━━━━━━━━━┩\n",
              "│ dense_16 (\u001b[38;5;33mDense\u001b[0m)                │ (\u001b[38;5;45mNone\u001b[0m, \u001b[38;5;34m10\u001b[0m)             │            \u001b[38;5;34m30\u001b[0m │\n",
              "├─────────────────────────────────┼────────────────────────┼───────────────┤\n",
              "│ dense_17 (\u001b[38;5;33mDense\u001b[0m)                │ (\u001b[38;5;45mNone\u001b[0m, \u001b[38;5;34m10\u001b[0m)             │           \u001b[38;5;34m110\u001b[0m │\n",
              "├─────────────────────────────────┼────────────────────────┼───────────────┤\n",
              "│ dense_18 (\u001b[38;5;33mDense\u001b[0m)                │ (\u001b[38;5;45mNone\u001b[0m, \u001b[38;5;34m10\u001b[0m)             │           \u001b[38;5;34m110\u001b[0m │\n",
              "├─────────────────────────────────┼────────────────────────┼───────────────┤\n",
              "│ dense_19 (\u001b[38;5;33mDense\u001b[0m)                │ (\u001b[38;5;45mNone\u001b[0m, \u001b[38;5;34m10\u001b[0m)             │           \u001b[38;5;34m110\u001b[0m │\n",
              "├─────────────────────────────────┼────────────────────────┼───────────────┤\n",
              "│ dense_20 (\u001b[38;5;33mDense\u001b[0m)                │ (\u001b[38;5;45mNone\u001b[0m, \u001b[38;5;34m1\u001b[0m)              │            \u001b[38;5;34m11\u001b[0m │\n",
              "└─────────────────────────────────┴────────────────────────┴───────────────┘\n"
            ],
            "text/html": [
              "<pre style=\"white-space:pre;overflow-x:auto;line-height:normal;font-family:Menlo,'DejaVu Sans Mono',consolas,'Courier New',monospace\">┏━━━━━━━━━━━━━━━━━━━━━━━━━━━━━━━━━┳━━━━━━━━━━━━━━━━━━━━━━━━┳━━━━━━━━━━━━━━━┓\n",
              "┃<span style=\"font-weight: bold\"> Layer (type)                    </span>┃<span style=\"font-weight: bold\"> Output Shape           </span>┃<span style=\"font-weight: bold\">       Param # </span>┃\n",
              "┡━━━━━━━━━━━━━━━━━━━━━━━━━━━━━━━━━╇━━━━━━━━━━━━━━━━━━━━━━━━╇━━━━━━━━━━━━━━━┩\n",
              "│ dense_16 (<span style=\"color: #0087ff; text-decoration-color: #0087ff\">Dense</span>)                │ (<span style=\"color: #00d7ff; text-decoration-color: #00d7ff\">None</span>, <span style=\"color: #00af00; text-decoration-color: #00af00\">10</span>)             │            <span style=\"color: #00af00; text-decoration-color: #00af00\">30</span> │\n",
              "├─────────────────────────────────┼────────────────────────┼───────────────┤\n",
              "│ dense_17 (<span style=\"color: #0087ff; text-decoration-color: #0087ff\">Dense</span>)                │ (<span style=\"color: #00d7ff; text-decoration-color: #00d7ff\">None</span>, <span style=\"color: #00af00; text-decoration-color: #00af00\">10</span>)             │           <span style=\"color: #00af00; text-decoration-color: #00af00\">110</span> │\n",
              "├─────────────────────────────────┼────────────────────────┼───────────────┤\n",
              "│ dense_18 (<span style=\"color: #0087ff; text-decoration-color: #0087ff\">Dense</span>)                │ (<span style=\"color: #00d7ff; text-decoration-color: #00d7ff\">None</span>, <span style=\"color: #00af00; text-decoration-color: #00af00\">10</span>)             │           <span style=\"color: #00af00; text-decoration-color: #00af00\">110</span> │\n",
              "├─────────────────────────────────┼────────────────────────┼───────────────┤\n",
              "│ dense_19 (<span style=\"color: #0087ff; text-decoration-color: #0087ff\">Dense</span>)                │ (<span style=\"color: #00d7ff; text-decoration-color: #00d7ff\">None</span>, <span style=\"color: #00af00; text-decoration-color: #00af00\">10</span>)             │           <span style=\"color: #00af00; text-decoration-color: #00af00\">110</span> │\n",
              "├─────────────────────────────────┼────────────────────────┼───────────────┤\n",
              "│ dense_20 (<span style=\"color: #0087ff; text-decoration-color: #0087ff\">Dense</span>)                │ (<span style=\"color: #00d7ff; text-decoration-color: #00d7ff\">None</span>, <span style=\"color: #00af00; text-decoration-color: #00af00\">1</span>)              │            <span style=\"color: #00af00; text-decoration-color: #00af00\">11</span> │\n",
              "└─────────────────────────────────┴────────────────────────┴───────────────┘\n",
              "</pre>\n"
            ]
          },
          "metadata": {}
        },
        {
          "output_type": "display_data",
          "data": {
            "text/plain": [
              "\u001b[1m Total params: \u001b[0m\u001b[38;5;34m371\u001b[0m (1.45 KB)\n"
            ],
            "text/html": [
              "<pre style=\"white-space:pre;overflow-x:auto;line-height:normal;font-family:Menlo,'DejaVu Sans Mono',consolas,'Courier New',monospace\"><span style=\"font-weight: bold\"> Total params: </span><span style=\"color: #00af00; text-decoration-color: #00af00\">371</span> (1.45 KB)\n",
              "</pre>\n"
            ]
          },
          "metadata": {}
        },
        {
          "output_type": "display_data",
          "data": {
            "text/plain": [
              "\u001b[1m Trainable params: \u001b[0m\u001b[38;5;34m371\u001b[0m (1.45 KB)\n"
            ],
            "text/html": [
              "<pre style=\"white-space:pre;overflow-x:auto;line-height:normal;font-family:Menlo,'DejaVu Sans Mono',consolas,'Courier New',monospace\"><span style=\"font-weight: bold\"> Trainable params: </span><span style=\"color: #00af00; text-decoration-color: #00af00\">371</span> (1.45 KB)\n",
              "</pre>\n"
            ]
          },
          "metadata": {}
        },
        {
          "output_type": "display_data",
          "data": {
            "text/plain": [
              "\u001b[1m Non-trainable params: \u001b[0m\u001b[38;5;34m0\u001b[0m (0.00 B)\n"
            ],
            "text/html": [
              "<pre style=\"white-space:pre;overflow-x:auto;line-height:normal;font-family:Menlo,'DejaVu Sans Mono',consolas,'Courier New',monospace\"><span style=\"font-weight: bold\"> Non-trainable params: </span><span style=\"color: #00af00; text-decoration-color: #00af00\">0</span> (0.00 B)\n",
              "</pre>\n"
            ]
          },
          "metadata": {}
        }
      ]
    },
    {
      "cell_type": "code",
      "source": [
        "model.get_weights()"
      ],
      "metadata": {
        "colab": {
          "base_uri": "https://localhost:8080/"
        },
        "id": "jGEqoVR9XF5f",
        "outputId": "3413b2cc-4b01-446b-e4be-6c7eeb1f3b66"
      },
      "execution_count": null,
      "outputs": [
        {
          "output_type": "execute_result",
          "data": {
            "text/plain": [
              "[array([[-1.0637498 ,  0.54451865,  1.3104624 ,  0.47072083,  1.160654  ,\n",
              "         -1.10244   , -0.6314765 , -1.7764663 , -0.24746287, -0.06971634],\n",
              "        [ 1.6871601 , -1.1062812 , -0.67470294, -0.6872868 , -0.9937834 ,\n",
              "          0.276556  , -0.36669657,  1.5563552 ,  1.2611382 ,  1.5726709 ]],\n",
              "       dtype=float32),\n",
              " array([0., 0., 0., 0., 0., 0., 0., 0., 0., 0.], dtype=float32),\n",
              " array([[-0.61850053,  0.32641032, -0.1187361 ,  0.2025971 ,  0.6642447 ,\n",
              "         -0.4672441 , -1.0087637 , -0.36105374, -0.7506926 , -0.11631875],\n",
              "        [-0.23629   ,  0.8575697 , -0.3265849 , -0.12995745,  0.22397515,\n",
              "          0.13449009, -0.07932208, -0.6483618 ,  0.20247729, -0.15291248],\n",
              "        [-0.529322  , -0.55025995, -0.10088128, -0.71015465, -0.03505658,\n",
              "          0.5105082 , -0.07594272, -0.22036979, -0.14693652,  0.17844276],\n",
              "        [-0.73262125, -0.30653718,  0.60433406, -0.05641623,  0.05746387,\n",
              "          0.35736254,  0.40225336, -0.4342183 , -0.14935263, -0.12567964],\n",
              "        [ 0.36222297, -0.7806336 , -0.8806369 ,  0.71939594,  0.6651003 ,\n",
              "          0.12641351,  0.26283103, -0.12610376, -0.47441557, -0.02709522],\n",
              "        [ 0.61997795,  0.4012087 , -0.68766046, -0.21003076,  0.8763448 ,\n",
              "          0.44550794, -0.3914761 , -0.41967037, -0.3659353 , -0.00434591],\n",
              "        [ 0.0442155 ,  0.04930474, -0.4392614 , -0.96111214,  0.07430413,\n",
              "          0.655757  , -0.41950884, -0.01064887,  0.43993333, -0.29140005],\n",
              "        [-0.17909779,  0.67958313,  0.10306654, -0.2948006 ,  0.3897515 ,\n",
              "         -0.4039011 ,  0.4998769 , -0.5414354 , -0.20473062,  0.14991336],\n",
              "        [-0.19818796,  0.4371901 , -0.7863926 ,  0.02345979, -0.0064119 ,\n",
              "          0.72262704,  0.2195854 , -0.73357695,  0.06626067,  0.6963556 ],\n",
              "        [ 0.7261452 ,  0.28073072,  0.25004327,  0.78278035, -0.23271236,\n",
              "          0.27905026,  0.24509926, -0.27641082, -0.38860807, -0.00460387]],\n",
              "       dtype=float32),\n",
              " array([0., 0., 0., 0., 0., 0., 0., 0., 0., 0.], dtype=float32),\n",
              " array([[ 0.2984531 , -0.12528837, -0.80717087,  0.95112324,  0.11799523,\n",
              "         -0.561071  ,  0.37361977, -0.18353367, -0.02989671,  0.02585816],\n",
              "        [ 0.16485699,  0.50768524, -0.2764647 , -0.73692125,  0.00251479,\n",
              "         -0.76027423, -0.42172664, -0.35193333,  0.7658672 ,  0.03843259],\n",
              "        [ 0.17265543,  0.01587357,  0.11259933,  0.26563343, -0.4765823 ,\n",
              "         -0.33243394, -0.85407543, -0.81604284,  0.40103468, -0.01128135],\n",
              "        [-0.01031828,  0.74333996,  0.38988343, -0.3896697 , -0.34866896,\n",
              "         -0.654594  ,  0.23691674,  0.95362574,  0.7049613 , -0.23081526],\n",
              "        [ 0.21196392, -0.8187374 ,  0.7126362 , -0.14395975,  0.450756  ,\n",
              "          0.44731194, -0.10612816, -0.19469003, -0.02536576,  0.9508105 ],\n",
              "        [ 0.36249912,  0.23250212,  0.18090236, -0.46227685, -0.04334633,\n",
              "          0.6952073 ,  0.10034402, -0.26916414,  0.8256124 , -0.09674124],\n",
              "        [ 0.3083329 ,  0.6572683 ,  0.15680957,  0.13262352,  0.80763817,\n",
              "         -0.0945787 ,  0.33538088, -0.46932438,  0.17752652,  0.59875435],\n",
              "        [ 0.01053367,  0.11083572, -0.54821813, -0.46569002,  0.90980655,\n",
              "          0.06221433,  0.5365196 ,  0.28078935, -0.06037975,  0.27903053],\n",
              "        [-0.5941118 , -0.4195879 , -0.55485994,  0.6147248 ,  0.1995141 ,\n",
              "          0.00391849,  0.19730043,  0.4840134 , -0.26687264,  0.38976893],\n",
              "        [ 0.25796264,  0.2031676 , -0.6935138 ,  0.02513061,  0.26796865,\n",
              "          0.6757567 , -0.06303283, -0.552463  ,  0.59565425, -0.21619691]],\n",
              "       dtype=float32),\n",
              " array([0., 0., 0., 0., 0., 0., 0., 0., 0., 0.], dtype=float32),\n",
              " array([[-0.523828  ,  0.6090246 ,  0.2883894 , -0.9572135 , -0.00519999,\n",
              "         -0.42388934, -0.48533225,  0.3663945 ,  0.29418528, -0.35413355],\n",
              "        [-0.12014869, -0.02530812, -0.37263694, -0.7227317 , -0.21672924,\n",
              "          0.9059696 , -0.06852831,  0.61687374,  0.14766774,  0.11895343],\n",
              "        [-0.16421013, -0.048216  ,  0.15952705,  0.19770215,  0.5374115 ,\n",
              "          0.2820802 , -0.516994  , -0.1427994 ,  0.13607699, -0.76473856],\n",
              "        [-0.638911  ,  0.12755807,  0.9360794 ,  0.3704566 ,  0.91321224,\n",
              "         -0.5099719 ,  0.17117572,  0.60377705,  0.33473378, -0.05137501],\n",
              "        [ 0.5905846 , -0.3633664 ,  0.41560054, -0.3593468 ,  0.08494072,\n",
              "          0.43404213, -0.9994347 ,  0.53773856,  0.00821018, -0.80939955],\n",
              "        [ 0.05135299, -0.1087926 , -0.13694954,  0.02948079, -0.7741589 ,\n",
              "         -0.35620633, -0.4168064 ,  0.41865557,  0.55979836,  0.45014358],\n",
              "        [-0.5413611 , -0.17096052,  0.23189019, -0.15786378, -0.81069213,\n",
              "          0.49363256,  0.6773665 ,  0.891393  ,  0.7224138 ,  0.07712753],\n",
              "        [ 1.0061253 ,  0.7677563 , -0.06028423,  0.22646406, -0.16335088,\n",
              "         -0.39828876,  0.34656876, -0.24583635,  0.50284636, -0.82037574],\n",
              "        [-0.2857662 , -0.7016401 ,  0.8037776 , -0.02240592, -0.08226722,\n",
              "         -0.38435525,  0.43622592,  0.77348745, -0.38010904,  0.45271862],\n",
              "        [-0.5718169 ,  0.11748669,  0.50385183,  0.08364204, -0.10446592,\n",
              "          0.80757093, -0.64133716, -0.34366804,  0.5101651 , -0.14879997]],\n",
              "       dtype=float32),\n",
              " array([0., 0., 0., 0., 0., 0., 0., 0., 0., 0.], dtype=float32),\n",
              " array([[-0.15043914],\n",
              "        [-0.589862  ],\n",
              "        [-0.5117652 ],\n",
              "        [ 0.68225247],\n",
              "        [-0.01053911],\n",
              "        [-0.26524153],\n",
              "        [ 0.5664186 ],\n",
              "        [-0.14551425],\n",
              "        [ 0.28903204],\n",
              "        [-0.11327541]], dtype=float32),\n",
              " array([0.], dtype=float32)]"
            ]
          },
          "metadata": {},
          "execution_count": 31
        }
      ]
    },
    {
      "cell_type": "code",
      "source": [
        "model.compile(loss='binary_crossentropy',optimizer='adam',metrics=['accuracy'])"
      ],
      "metadata": {
        "id": "vCCXuqC3XWj1"
      },
      "execution_count": null,
      "outputs": []
    },
    {
      "cell_type": "code",
      "source": [
        "history = model.fit(X,y,epochs=100,validation_split=0.2)"
      ],
      "metadata": {
        "colab": {
          "base_uri": "https://localhost:8080/"
        },
        "id": "XvTjH2pJXil6",
        "outputId": "92a7e8c6-6229-46c7-d399-8cdd60ed5f7a"
      },
      "execution_count": null,
      "outputs": [
        {
          "output_type": "stream",
          "name": "stdout",
          "text": [
            "Epoch 1/100\n",
            "\u001b[1m3/3\u001b[0m \u001b[32m━━━━━━━━━━━━━━━━━━━━\u001b[0m\u001b[37m\u001b[0m \u001b[1m3s\u001b[0m 139ms/step - accuracy: 0.5000 - loss: 0.8231 - val_accuracy: 0.5000 - val_loss: 0.7266\n",
            "Epoch 2/100\n",
            "\u001b[1m3/3\u001b[0m \u001b[32m━━━━━━━━━━━━━━━━━━━━\u001b[0m\u001b[37m\u001b[0m \u001b[1m0s\u001b[0m 38ms/step - accuracy: 0.4883 - loss: 0.8082 - val_accuracy: 0.5000 - val_loss: 0.6980\n",
            "Epoch 3/100\n",
            "\u001b[1m3/3\u001b[0m \u001b[32m━━━━━━━━━━━━━━━━━━━━\u001b[0m\u001b[37m\u001b[0m \u001b[1m0s\u001b[0m 38ms/step - accuracy: 0.5469 - loss: 0.7113 - val_accuracy: 0.5000 - val_loss: 0.6723\n",
            "Epoch 4/100\n",
            "\u001b[1m3/3\u001b[0m \u001b[32m━━━━━━━━━━━━━━━━━━━━\u001b[0m\u001b[37m\u001b[0m \u001b[1m0s\u001b[0m 38ms/step - accuracy: 0.5430 - loss: 0.6895 - val_accuracy: 0.5000 - val_loss: 0.6492\n",
            "Epoch 5/100\n",
            "\u001b[1m3/3\u001b[0m \u001b[32m━━━━━━━━━━━━━━━━━━━━\u001b[0m\u001b[37m\u001b[0m \u001b[1m0s\u001b[0m 42ms/step - accuracy: 0.5078 - loss: 0.7028 - val_accuracy: 0.5000 - val_loss: 0.6282\n",
            "Epoch 6/100\n",
            "\u001b[1m3/3\u001b[0m \u001b[32m━━━━━━━━━━━━━━━━━━━━\u001b[0m\u001b[37m\u001b[0m \u001b[1m0s\u001b[0m 36ms/step - accuracy: 0.5258 - loss: 0.6799 - val_accuracy: 0.5000 - val_loss: 0.6088\n",
            "Epoch 7/100\n",
            "\u001b[1m3/3\u001b[0m \u001b[32m━━━━━━━━━━━━━━━━━━━━\u001b[0m\u001b[37m\u001b[0m \u001b[1m0s\u001b[0m 37ms/step - accuracy: 0.4906 - loss: 0.6938 - val_accuracy: 0.5000 - val_loss: 0.5914\n",
            "Epoch 8/100\n",
            "\u001b[1m3/3\u001b[0m \u001b[32m━━━━━━━━━━━━━━━━━━━━\u001b[0m\u001b[37m\u001b[0m \u001b[1m0s\u001b[0m 37ms/step - accuracy: 0.5141 - loss: 0.6610 - val_accuracy: 0.5000 - val_loss: 0.5759\n",
            "Epoch 9/100\n",
            "\u001b[1m3/3\u001b[0m \u001b[32m━━━━━━━━━━━━━━━━━━━━\u001b[0m\u001b[37m\u001b[0m \u001b[1m0s\u001b[0m 41ms/step - accuracy: 0.5453 - loss: 0.6326 - val_accuracy: 0.5000 - val_loss: 0.5630\n",
            "Epoch 10/100\n",
            "\u001b[1m3/3\u001b[0m \u001b[32m━━━━━━━━━━━━━━━━━━━━\u001b[0m\u001b[37m\u001b[0m \u001b[1m0s\u001b[0m 73ms/step - accuracy: 0.5297 - loss: 0.6210 - val_accuracy: 0.5500 - val_loss: 0.5515\n",
            "Epoch 11/100\n",
            "\u001b[1m3/3\u001b[0m \u001b[32m━━━━━━━━━━━━━━━━━━━━\u001b[0m\u001b[37m\u001b[0m \u001b[1m0s\u001b[0m 41ms/step - accuracy: 0.5047 - loss: 0.6422 - val_accuracy: 0.5500 - val_loss: 0.5411\n",
            "Epoch 12/100\n",
            "\u001b[1m3/3\u001b[0m \u001b[32m━━━━━━━━━━━━━━━━━━━━\u001b[0m\u001b[37m\u001b[0m \u001b[1m0s\u001b[0m 37ms/step - accuracy: 0.5242 - loss: 0.6193 - val_accuracy: 0.5500 - val_loss: 0.5316\n",
            "Epoch 13/100\n",
            "\u001b[1m3/3\u001b[0m \u001b[32m━━━━━━━━━━━━━━━━━━━━\u001b[0m\u001b[37m\u001b[0m \u001b[1m0s\u001b[0m 40ms/step - accuracy: 0.5242 - loss: 0.6017 - val_accuracy: 0.5500 - val_loss: 0.5228\n",
            "Epoch 14/100\n",
            "\u001b[1m3/3\u001b[0m \u001b[32m━━━━━━━━━━━━━━━━━━━━\u001b[0m\u001b[37m\u001b[0m \u001b[1m0s\u001b[0m 42ms/step - accuracy: 0.5578 - loss: 0.5914 - val_accuracy: 0.5500 - val_loss: 0.5145\n",
            "Epoch 15/100\n",
            "\u001b[1m3/3\u001b[0m \u001b[32m━━━━━━━━━━━━━━━━━━━━\u001b[0m\u001b[37m\u001b[0m \u001b[1m0s\u001b[0m 37ms/step - accuracy: 0.5500 - loss: 0.5800 - val_accuracy: 0.5500 - val_loss: 0.5065\n",
            "Epoch 16/100\n",
            "\u001b[1m3/3\u001b[0m \u001b[32m━━━━━━━━━━━━━━━━━━━━\u001b[0m\u001b[37m\u001b[0m \u001b[1m0s\u001b[0m 74ms/step - accuracy: 0.5781 - loss: 0.5614 - val_accuracy: 0.6000 - val_loss: 0.4989\n",
            "Epoch 17/100\n",
            "\u001b[1m3/3\u001b[0m \u001b[32m━━━━━━━━━━━━━━━━━━━━\u001b[0m\u001b[37m\u001b[0m \u001b[1m0s\u001b[0m 96ms/step - accuracy: 0.5375 - loss: 0.6056 - val_accuracy: 0.6500 - val_loss: 0.4919\n",
            "Epoch 18/100\n",
            "\u001b[1m3/3\u001b[0m \u001b[32m━━━━━━━━━━━━━━━━━━━━\u001b[0m\u001b[37m\u001b[0m \u001b[1m0s\u001b[0m 69ms/step - accuracy: 0.5547 - loss: 0.5637 - val_accuracy: 0.6500 - val_loss: 0.4851\n",
            "Epoch 19/100\n",
            "\u001b[1m3/3\u001b[0m \u001b[32m━━━━━━━━━━━━━━━━━━━━\u001b[0m\u001b[37m\u001b[0m \u001b[1m0s\u001b[0m 52ms/step - accuracy: 0.5828 - loss: 0.5599 - val_accuracy: 0.6500 - val_loss: 0.4790\n",
            "Epoch 20/100\n",
            "\u001b[1m3/3\u001b[0m \u001b[32m━━━━━━━━━━━━━━━━━━━━\u001b[0m\u001b[37m\u001b[0m \u001b[1m0s\u001b[0m 57ms/step - accuracy: 0.6203 - loss: 0.5457 - val_accuracy: 0.6500 - val_loss: 0.4731\n",
            "Epoch 21/100\n",
            "\u001b[1m3/3\u001b[0m \u001b[32m━━━━━━━━━━━━━━━━━━━━\u001b[0m\u001b[37m\u001b[0m \u001b[1m0s\u001b[0m 94ms/step - accuracy: 0.6227 - loss: 0.5261 - val_accuracy: 0.7500 - val_loss: 0.4675\n",
            "Epoch 22/100\n",
            "\u001b[1m3/3\u001b[0m \u001b[32m━━━━━━━━━━━━━━━━━━━━\u001b[0m\u001b[37m\u001b[0m \u001b[1m0s\u001b[0m 72ms/step - accuracy: 0.6930 - loss: 0.5200 - val_accuracy: 0.7500 - val_loss: 0.4619\n",
            "Epoch 23/100\n",
            "\u001b[1m3/3\u001b[0m \u001b[32m━━━━━━━━━━━━━━━━━━━━\u001b[0m\u001b[37m\u001b[0m \u001b[1m0s\u001b[0m 53ms/step - accuracy: 0.6781 - loss: 0.5446 - val_accuracy: 0.9000 - val_loss: 0.4566\n",
            "Epoch 24/100\n",
            "\u001b[1m3/3\u001b[0m \u001b[32m━━━━━━━━━━━━━━━━━━━━\u001b[0m\u001b[37m\u001b[0m \u001b[1m0s\u001b[0m 69ms/step - accuracy: 0.8242 - loss: 0.5211 - val_accuracy: 0.9000 - val_loss: 0.4515\n",
            "Epoch 25/100\n",
            "\u001b[1m3/3\u001b[0m \u001b[32m━━━━━━━━━━━━━━━━━━━━\u001b[0m\u001b[37m\u001b[0m \u001b[1m0s\u001b[0m 102ms/step - accuracy: 0.8070 - loss: 0.5103 - val_accuracy: 0.9000 - val_loss: 0.4466\n",
            "Epoch 26/100\n",
            "\u001b[1m3/3\u001b[0m \u001b[32m━━━━━━━━━━━━━━━━━━━━\u001b[0m\u001b[37m\u001b[0m \u001b[1m0s\u001b[0m 36ms/step - accuracy: 0.8445 - loss: 0.5157 - val_accuracy: 0.9000 - val_loss: 0.4418\n",
            "Epoch 27/100\n",
            "\u001b[1m3/3\u001b[0m \u001b[32m━━━━━━━━━━━━━━━━━━━━\u001b[0m\u001b[37m\u001b[0m \u001b[1m0s\u001b[0m 37ms/step - accuracy: 0.8313 - loss: 0.5175 - val_accuracy: 0.9000 - val_loss: 0.4370\n",
            "Epoch 28/100\n",
            "\u001b[1m3/3\u001b[0m \u001b[32m━━━━━━━━━━━━━━━━━━━━\u001b[0m\u001b[37m\u001b[0m \u001b[1m0s\u001b[0m 37ms/step - accuracy: 0.8391 - loss: 0.5063 - val_accuracy: 0.9000 - val_loss: 0.4322\n",
            "Epoch 29/100\n",
            "\u001b[1m3/3\u001b[0m \u001b[32m━━━━━━━━━━━━━━━━━━━━\u001b[0m\u001b[37m\u001b[0m \u001b[1m0s\u001b[0m 62ms/step - accuracy: 0.8273 - loss: 0.5216 - val_accuracy: 0.9000 - val_loss: 0.4274\n",
            "Epoch 30/100\n",
            "\u001b[1m3/3\u001b[0m \u001b[32m━━━━━━━━━━━━━━━━━━━━\u001b[0m\u001b[37m\u001b[0m \u001b[1m0s\u001b[0m 39ms/step - accuracy: 0.8391 - loss: 0.4839 - val_accuracy: 0.9000 - val_loss: 0.4227\n",
            "Epoch 31/100\n",
            "\u001b[1m3/3\u001b[0m \u001b[32m━━━━━━━━━━━━━━━━━━━━\u001b[0m\u001b[37m\u001b[0m \u001b[1m0s\u001b[0m 97ms/step - accuracy: 0.8586 - loss: 0.4833 - val_accuracy: 0.9000 - val_loss: 0.4181\n",
            "Epoch 32/100\n",
            "\u001b[1m3/3\u001b[0m \u001b[32m━━━━━━━━━━━━━━━━━━━━\u001b[0m\u001b[37m\u001b[0m \u001b[1m0s\u001b[0m 73ms/step - accuracy: 0.8273 - loss: 0.4956 - val_accuracy: 0.9000 - val_loss: 0.4138\n",
            "Epoch 33/100\n",
            "\u001b[1m3/3\u001b[0m \u001b[32m━━━━━━━━━━━━━━━━━━━━\u001b[0m\u001b[37m\u001b[0m \u001b[1m0s\u001b[0m 40ms/step - accuracy: 0.8117 - loss: 0.5041 - val_accuracy: 0.9000 - val_loss: 0.4095\n",
            "Epoch 34/100\n",
            "\u001b[1m3/3\u001b[0m \u001b[32m━━━━━━━━━━━━━━━━━━━━\u001b[0m\u001b[37m\u001b[0m \u001b[1m0s\u001b[0m 56ms/step - accuracy: 0.8547 - loss: 0.4715 - val_accuracy: 0.9000 - val_loss: 0.4050\n",
            "Epoch 35/100\n",
            "\u001b[1m3/3\u001b[0m \u001b[32m━━━━━━━━━━━━━━━━━━━━\u001b[0m\u001b[37m\u001b[0m \u001b[1m0s\u001b[0m 122ms/step - accuracy: 0.8547 - loss: 0.4686 - val_accuracy: 0.9000 - val_loss: 0.4010\n",
            "Epoch 36/100\n",
            "\u001b[1m3/3\u001b[0m \u001b[32m━━━━━━━━━━━━━━━━━━━━\u001b[0m\u001b[37m\u001b[0m \u001b[1m0s\u001b[0m 37ms/step - accuracy: 0.8625 - loss: 0.4565 - val_accuracy: 0.9000 - val_loss: 0.3970\n",
            "Epoch 37/100\n",
            "\u001b[1m3/3\u001b[0m \u001b[32m━━━━━━━━━━━━━━━━━━━━\u001b[0m\u001b[37m\u001b[0m \u001b[1m0s\u001b[0m 62ms/step - accuracy: 0.8430 - loss: 0.4927 - val_accuracy: 0.9000 - val_loss: 0.3933\n",
            "Epoch 38/100\n",
            "\u001b[1m3/3\u001b[0m \u001b[32m━━━━━━━━━━━━━━━━━━━━\u001b[0m\u001b[37m\u001b[0m \u001b[1m0s\u001b[0m 88ms/step - accuracy: 0.8547 - loss: 0.4713 - val_accuracy: 0.9000 - val_loss: 0.3894\n",
            "Epoch 39/100\n",
            "\u001b[1m3/3\u001b[0m \u001b[32m━━━━━━━━━━━━━━━━━━━━\u001b[0m\u001b[37m\u001b[0m \u001b[1m0s\u001b[0m 73ms/step - accuracy: 0.8609 - loss: 0.4492 - val_accuracy: 0.9000 - val_loss: 0.3853\n",
            "Epoch 40/100\n",
            "\u001b[1m3/3\u001b[0m \u001b[32m━━━━━━━━━━━━━━━━━━━━\u001b[0m\u001b[37m\u001b[0m \u001b[1m0s\u001b[0m 73ms/step - accuracy: 0.8492 - loss: 0.4673 - val_accuracy: 0.9000 - val_loss: 0.3811\n",
            "Epoch 41/100\n",
            "\u001b[1m3/3\u001b[0m \u001b[32m━━━━━━━━━━━━━━━━━━━━\u001b[0m\u001b[37m\u001b[0m \u001b[1m0s\u001b[0m 38ms/step - accuracy: 0.8766 - loss: 0.4392 - val_accuracy: 0.9000 - val_loss: 0.3768\n",
            "Epoch 42/100\n",
            "\u001b[1m3/3\u001b[0m \u001b[32m━━━━━━━━━━━━━━━━━━━━\u001b[0m\u001b[37m\u001b[0m \u001b[1m0s\u001b[0m 122ms/step - accuracy: 0.8453 - loss: 0.4560 - val_accuracy: 0.9500 - val_loss: 0.3727\n",
            "Epoch 43/100\n",
            "\u001b[1m3/3\u001b[0m \u001b[32m━━━━━━━━━━━━━━━━━━━━\u001b[0m\u001b[37m\u001b[0m \u001b[1m0s\u001b[0m 37ms/step - accuracy: 0.8805 - loss: 0.4315 - val_accuracy: 0.9500 - val_loss: 0.3684\n",
            "Epoch 44/100\n",
            "\u001b[1m3/3\u001b[0m \u001b[32m━━━━━━━━━━━━━━━━━━━━\u001b[0m\u001b[37m\u001b[0m \u001b[1m0s\u001b[0m 37ms/step - accuracy: 0.8336 - loss: 0.4612 - val_accuracy: 0.9500 - val_loss: 0.3644\n",
            "Epoch 45/100\n",
            "\u001b[1m3/3\u001b[0m \u001b[32m━━━━━━━━━━━━━━━━━━━━\u001b[0m\u001b[37m\u001b[0m \u001b[1m0s\u001b[0m 111ms/step - accuracy: 0.8609 - loss: 0.4257 - val_accuracy: 0.9500 - val_loss: 0.3602\n",
            "Epoch 46/100\n",
            "\u001b[1m3/3\u001b[0m \u001b[32m━━━━━━━━━━━━━━━━━━━━\u001b[0m\u001b[37m\u001b[0m \u001b[1m0s\u001b[0m 62ms/step - accuracy: 0.8766 - loss: 0.4172 - val_accuracy: 0.9500 - val_loss: 0.3559\n",
            "Epoch 47/100\n",
            "\u001b[1m3/3\u001b[0m \u001b[32m━━━━━━━━━━━━━━━━━━━━\u001b[0m\u001b[37m\u001b[0m \u001b[1m0s\u001b[0m 40ms/step - accuracy: 0.8609 - loss: 0.4165 - val_accuracy: 0.9000 - val_loss: 0.3517\n",
            "Epoch 48/100\n",
            "\u001b[1m3/3\u001b[0m \u001b[32m━━━━━━━━━━━━━━━━━━━━\u001b[0m\u001b[37m\u001b[0m \u001b[1m0s\u001b[0m 74ms/step - accuracy: 0.8453 - loss: 0.4513 - val_accuracy: 0.9500 - val_loss: 0.3475\n",
            "Epoch 49/100\n",
            "\u001b[1m3/3\u001b[0m \u001b[32m━━━━━━━━━━━━━━━━━━━━\u001b[0m\u001b[37m\u001b[0m \u001b[1m0s\u001b[0m 95ms/step - accuracy: 0.8727 - loss: 0.4058 - val_accuracy: 0.9500 - val_loss: 0.3432\n",
            "Epoch 50/100\n",
            "\u001b[1m3/3\u001b[0m \u001b[32m━━━━━━━━━━━━━━━━━━━━\u001b[0m\u001b[37m\u001b[0m \u001b[1m0s\u001b[0m 109ms/step - accuracy: 0.8648 - loss: 0.4061 - val_accuracy: 0.9500 - val_loss: 0.3393\n",
            "Epoch 51/100\n",
            "\u001b[1m3/3\u001b[0m \u001b[32m━━━━━━━━━━━━━━━━━━━━\u001b[0m\u001b[37m\u001b[0m \u001b[1m0s\u001b[0m 76ms/step - accuracy: 0.8453 - loss: 0.4208 - val_accuracy: 0.9500 - val_loss: 0.3355\n",
            "Epoch 52/100\n",
            "\u001b[1m3/3\u001b[0m \u001b[32m━━━━━━━━━━━━━━━━━━━━\u001b[0m\u001b[37m\u001b[0m \u001b[1m0s\u001b[0m 37ms/step - accuracy: 0.8844 - loss: 0.3887 - val_accuracy: 0.9500 - val_loss: 0.3314\n",
            "Epoch 53/100\n",
            "\u001b[1m3/3\u001b[0m \u001b[32m━━━━━━━━━━━━━━━━━━━━\u001b[0m\u001b[37m\u001b[0m \u001b[1m0s\u001b[0m 36ms/step - accuracy: 0.8648 - loss: 0.4051 - val_accuracy: 0.9500 - val_loss: 0.3275\n",
            "Epoch 54/100\n",
            "\u001b[1m3/3\u001b[0m \u001b[32m━━━━━━━━━━━━━━━━━━━━\u001b[0m\u001b[37m\u001b[0m \u001b[1m0s\u001b[0m 74ms/step - accuracy: 0.8414 - loss: 0.4193 - val_accuracy: 1.0000 - val_loss: 0.3234\n",
            "Epoch 55/100\n",
            "\u001b[1m3/3\u001b[0m \u001b[32m━━━━━━━━━━━━━━━━━━━━\u001b[0m\u001b[37m\u001b[0m \u001b[1m0s\u001b[0m 92ms/step - accuracy: 0.8609 - loss: 0.4019 - val_accuracy: 1.0000 - val_loss: 0.3191\n",
            "Epoch 56/100\n",
            "\u001b[1m3/3\u001b[0m \u001b[32m━━━━━━━━━━━━━━━━━━━━\u001b[0m\u001b[37m\u001b[0m \u001b[1m0s\u001b[0m 38ms/step - accuracy: 0.8711 - loss: 0.4081 - val_accuracy: 1.0000 - val_loss: 0.3149\n",
            "Epoch 57/100\n",
            "\u001b[1m3/3\u001b[0m \u001b[32m━━━━━━━━━━━━━━━━━━━━\u001b[0m\u001b[37m\u001b[0m \u001b[1m0s\u001b[0m 60ms/step - accuracy: 0.8711 - loss: 0.3977 - val_accuracy: 1.0000 - val_loss: 0.3106\n",
            "Epoch 58/100\n",
            "\u001b[1m3/3\u001b[0m \u001b[32m━━━━━━━━━━━━━━━━━━━━\u001b[0m\u001b[37m\u001b[0m \u001b[1m1s\u001b[0m 180ms/step - accuracy: 0.8750 - loss: 0.3835 - val_accuracy: 1.0000 - val_loss: 0.3067\n",
            "Epoch 59/100\n",
            "\u001b[1m3/3\u001b[0m \u001b[32m━━━━━━━━━━━━━━━━━━━━\u001b[0m\u001b[37m\u001b[0m \u001b[1m0s\u001b[0m 75ms/step - accuracy: 0.8867 - loss: 0.3720 - val_accuracy: 1.0000 - val_loss: 0.3029\n",
            "Epoch 60/100\n",
            "\u001b[1m3/3\u001b[0m \u001b[32m━━━━━━━━━━━━━━━━━━━━\u001b[0m\u001b[37m\u001b[0m \u001b[1m0s\u001b[0m 42ms/step - accuracy: 0.8594 - loss: 0.3991 - val_accuracy: 1.0000 - val_loss: 0.2994\n",
            "Epoch 61/100\n",
            "\u001b[1m3/3\u001b[0m \u001b[32m━━━━━━━━━━━━━━━━━━━━\u001b[0m\u001b[37m\u001b[0m \u001b[1m0s\u001b[0m 37ms/step - accuracy: 0.8945 - loss: 0.3591 - val_accuracy: 1.0000 - val_loss: 0.2958\n",
            "Epoch 62/100\n",
            "\u001b[1m3/3\u001b[0m \u001b[32m━━━━━━━━━━━━━━━━━━━━\u001b[0m\u001b[37m\u001b[0m \u001b[1m0s\u001b[0m 71ms/step - accuracy: 0.8594 - loss: 0.3806 - val_accuracy: 1.0000 - val_loss: 0.2926\n",
            "Epoch 63/100\n",
            "\u001b[1m3/3\u001b[0m \u001b[32m━━━━━━━━━━━━━━━━━━━━\u001b[0m\u001b[37m\u001b[0m \u001b[1m0s\u001b[0m 92ms/step - accuracy: 0.8594 - loss: 0.3827 - val_accuracy: 1.0000 - val_loss: 0.2893\n",
            "Epoch 64/100\n",
            "\u001b[1m3/3\u001b[0m \u001b[32m━━━━━━━━━━━━━━━━━━━━\u001b[0m\u001b[37m\u001b[0m \u001b[1m0s\u001b[0m 41ms/step - accuracy: 0.8711 - loss: 0.3722 - val_accuracy: 1.0000 - val_loss: 0.2857\n",
            "Epoch 65/100\n",
            "\u001b[1m3/3\u001b[0m \u001b[32m━━━━━━━━━━━━━━━━━━━━\u001b[0m\u001b[37m\u001b[0m \u001b[1m0s\u001b[0m 58ms/step - accuracy: 0.8789 - loss: 0.3707 - val_accuracy: 1.0000 - val_loss: 0.2821\n",
            "Epoch 66/100\n",
            "\u001b[1m3/3\u001b[0m \u001b[32m━━━━━━━━━━━━━━━━━━━━\u001b[0m\u001b[37m\u001b[0m \u001b[1m0s\u001b[0m 37ms/step - accuracy: 0.8906 - loss: 0.3541 - val_accuracy: 1.0000 - val_loss: 0.2785\n",
            "Epoch 67/100\n",
            "\u001b[1m3/3\u001b[0m \u001b[32m━━━━━━━━━━━━━━━━━━━━\u001b[0m\u001b[37m\u001b[0m \u001b[1m0s\u001b[0m 38ms/step - accuracy: 0.8789 - loss: 0.3570 - val_accuracy: 1.0000 - val_loss: 0.2750\n",
            "Epoch 68/100\n",
            "\u001b[1m3/3\u001b[0m \u001b[32m━━━━━━━━━━━━━━━━━━━━\u001b[0m\u001b[37m\u001b[0m \u001b[1m0s\u001b[0m 40ms/step - accuracy: 0.8828 - loss: 0.3544 - val_accuracy: 1.0000 - val_loss: 0.2715\n",
            "Epoch 69/100\n",
            "\u001b[1m3/3\u001b[0m \u001b[32m━━━━━━━━━━━━━━━━━━━━\u001b[0m\u001b[37m\u001b[0m \u001b[1m0s\u001b[0m 41ms/step - accuracy: 0.8867 - loss: 0.3564 - val_accuracy: 1.0000 - val_loss: 0.2681\n",
            "Epoch 70/100\n",
            "\u001b[1m3/3\u001b[0m \u001b[32m━━━━━━━━━━━━━━━━━━━━\u001b[0m\u001b[37m\u001b[0m \u001b[1m0s\u001b[0m 139ms/step - accuracy: 0.8867 - loss: 0.3329 - val_accuracy: 1.0000 - val_loss: 0.2648\n",
            "Epoch 71/100\n",
            "\u001b[1m3/3\u001b[0m \u001b[32m━━━━━━━━━━━━━━━━━━━━\u001b[0m\u001b[37m\u001b[0m \u001b[1m1s\u001b[0m 149ms/step - accuracy: 0.9062 - loss: 0.3288 - val_accuracy: 1.0000 - val_loss: 0.2615\n",
            "Epoch 72/100\n",
            "\u001b[1m3/3\u001b[0m \u001b[32m━━━━━━━━━━━━━━━━━━━━\u001b[0m\u001b[37m\u001b[0m \u001b[1m0s\u001b[0m 97ms/step - accuracy: 0.8750 - loss: 0.3441 - val_accuracy: 1.0000 - val_loss: 0.2587\n",
            "Epoch 73/100\n",
            "\u001b[1m3/3\u001b[0m \u001b[32m━━━━━━━━━━━━━━━━━━━━\u001b[0m\u001b[37m\u001b[0m \u001b[1m0s\u001b[0m 101ms/step - accuracy: 0.8672 - loss: 0.3520 - val_accuracy: 1.0000 - val_loss: 0.2558\n",
            "Epoch 74/100\n",
            "\u001b[1m3/3\u001b[0m \u001b[32m━━━━━━━━━━━━━━━━━━━━\u001b[0m\u001b[37m\u001b[0m \u001b[1m0s\u001b[0m 66ms/step - accuracy: 0.8594 - loss: 0.3601 - val_accuracy: 1.0000 - val_loss: 0.2529\n",
            "Epoch 75/100\n",
            "\u001b[1m3/3\u001b[0m \u001b[32m━━━━━━━━━━━━━━━━━━━━\u001b[0m\u001b[37m\u001b[0m \u001b[1m0s\u001b[0m 68ms/step - accuracy: 0.8906 - loss: 0.3130 - val_accuracy: 1.0000 - val_loss: 0.2499\n",
            "Epoch 76/100\n",
            "\u001b[1m3/3\u001b[0m \u001b[32m━━━━━━━━━━━━━━━━━━━━\u001b[0m\u001b[37m\u001b[0m \u001b[1m0s\u001b[0m 70ms/step - accuracy: 0.8906 - loss: 0.3312 - val_accuracy: 1.0000 - val_loss: 0.2469\n",
            "Epoch 77/100\n",
            "\u001b[1m3/3\u001b[0m \u001b[32m━━━━━━━━━━━━━━━━━━━━\u001b[0m\u001b[37m\u001b[0m \u001b[1m1s\u001b[0m 185ms/step - accuracy: 0.8867 - loss: 0.3343 - val_accuracy: 1.0000 - val_loss: 0.2442\n",
            "Epoch 78/100\n",
            "\u001b[1m3/3\u001b[0m \u001b[32m━━━━━━━━━━━━━━━━━━━━\u001b[0m\u001b[37m\u001b[0m \u001b[1m1s\u001b[0m 267ms/step - accuracy: 0.8750 - loss: 0.3383 - val_accuracy: 1.0000 - val_loss: 0.2414\n",
            "Epoch 79/100\n",
            "\u001b[1m3/3\u001b[0m \u001b[32m━━━━━━━━━━━━━━━━━━━━\u001b[0m\u001b[37m\u001b[0m \u001b[1m0s\u001b[0m 129ms/step - accuracy: 0.8828 - loss: 0.3329 - val_accuracy: 1.0000 - val_loss: 0.2384\n",
            "Epoch 80/100\n",
            "\u001b[1m3/3\u001b[0m \u001b[32m━━━━━━━━━━━━━━━━━━━━\u001b[0m\u001b[37m\u001b[0m \u001b[1m0s\u001b[0m 43ms/step - accuracy: 0.8555 - loss: 0.3434 - val_accuracy: 1.0000 - val_loss: 0.2356\n",
            "Epoch 81/100\n",
            "\u001b[1m3/3\u001b[0m \u001b[32m━━━━━━━━━━━━━━━━━━━━\u001b[0m\u001b[37m\u001b[0m \u001b[1m0s\u001b[0m 37ms/step - accuracy: 0.8633 - loss: 0.3543 - val_accuracy: 1.0000 - val_loss: 0.2331\n",
            "Epoch 82/100\n",
            "\u001b[1m3/3\u001b[0m \u001b[32m━━━━━━━━━━━━━━━━━━━━\u001b[0m\u001b[37m\u001b[0m \u001b[1m0s\u001b[0m 39ms/step - accuracy: 0.8867 - loss: 0.3142 - val_accuracy: 1.0000 - val_loss: 0.2304\n",
            "Epoch 83/100\n",
            "\u001b[1m3/3\u001b[0m \u001b[32m━━━━━━━━━━━━━━━━━━━━\u001b[0m\u001b[37m\u001b[0m \u001b[1m0s\u001b[0m 38ms/step - accuracy: 0.8828 - loss: 0.3248 - val_accuracy: 0.9500 - val_loss: 0.2278\n",
            "Epoch 84/100\n",
            "\u001b[1m3/3\u001b[0m \u001b[32m━━━━━━━━━━━━━━━━━━━━\u001b[0m\u001b[37m\u001b[0m \u001b[1m0s\u001b[0m 41ms/step - accuracy: 0.8789 - loss: 0.3235 - val_accuracy: 0.9500 - val_loss: 0.2255\n",
            "Epoch 85/100\n",
            "\u001b[1m3/3\u001b[0m \u001b[32m━━━━━━━━━━━━━━━━━━━━\u001b[0m\u001b[37m\u001b[0m \u001b[1m0s\u001b[0m 56ms/step - accuracy: 0.9062 - loss: 0.2745 - val_accuracy: 0.9500 - val_loss: 0.2231\n",
            "Epoch 86/100\n",
            "\u001b[1m3/3\u001b[0m \u001b[32m━━━━━━━━━━━━━━━━━━━━\u001b[0m\u001b[37m\u001b[0m \u001b[1m0s\u001b[0m 42ms/step - accuracy: 0.8828 - loss: 0.3063 - val_accuracy: 0.9500 - val_loss: 0.2216\n",
            "Epoch 87/100\n",
            "\u001b[1m3/3\u001b[0m \u001b[32m━━━━━━━━━━━━━━━━━━━━\u001b[0m\u001b[37m\u001b[0m \u001b[1m0s\u001b[0m 58ms/step - accuracy: 0.8672 - loss: 0.3238 - val_accuracy: 0.9500 - val_loss: 0.2205\n",
            "Epoch 88/100\n",
            "\u001b[1m3/3\u001b[0m \u001b[32m━━━━━━━━━━━━━━━━━━━━\u001b[0m\u001b[37m\u001b[0m \u001b[1m0s\u001b[0m 39ms/step - accuracy: 0.8789 - loss: 0.3135 - val_accuracy: 0.9500 - val_loss: 0.2193\n",
            "Epoch 89/100\n",
            "\u001b[1m3/3\u001b[0m \u001b[32m━━━━━━━━━━━━━━━━━━━━\u001b[0m\u001b[37m\u001b[0m \u001b[1m0s\u001b[0m 39ms/step - accuracy: 0.8672 - loss: 0.3188 - val_accuracy: 0.9500 - val_loss: 0.2179\n",
            "Epoch 90/100\n",
            "\u001b[1m3/3\u001b[0m \u001b[32m━━━━━━━━━━━━━━━━━━━━\u001b[0m\u001b[37m\u001b[0m \u001b[1m0s\u001b[0m 40ms/step - accuracy: 0.8633 - loss: 0.3166 - val_accuracy: 0.9500 - val_loss: 0.2161\n",
            "Epoch 91/100\n",
            "\u001b[1m3/3\u001b[0m \u001b[32m━━━━━━━━━━━━━━━━━━━━\u001b[0m\u001b[37m\u001b[0m \u001b[1m0s\u001b[0m 44ms/step - accuracy: 0.8672 - loss: 0.3205 - val_accuracy: 0.9500 - val_loss: 0.2144\n",
            "Epoch 92/100\n",
            "\u001b[1m3/3\u001b[0m \u001b[32m━━━━━━━━━━━━━━━━━━━━\u001b[0m\u001b[37m\u001b[0m \u001b[1m0s\u001b[0m 56ms/step - accuracy: 0.8477 - loss: 0.3416 - val_accuracy: 0.9500 - val_loss: 0.2122\n",
            "Epoch 93/100\n",
            "\u001b[1m3/3\u001b[0m \u001b[32m━━━━━━━━━━━━━━━━━━━━\u001b[0m\u001b[37m\u001b[0m \u001b[1m0s\u001b[0m 38ms/step - accuracy: 0.8867 - loss: 0.3029 - val_accuracy: 0.9500 - val_loss: 0.2098\n",
            "Epoch 94/100\n",
            "\u001b[1m3/3\u001b[0m \u001b[32m━━━━━━━━━━━━━━━━━━━━\u001b[0m\u001b[37m\u001b[0m \u001b[1m0s\u001b[0m 43ms/step - accuracy: 0.8789 - loss: 0.2928 - val_accuracy: 0.9500 - val_loss: 0.2081\n",
            "Epoch 95/100\n",
            "\u001b[1m3/3\u001b[0m \u001b[32m━━━━━━━━━━━━━━━━━━━━\u001b[0m\u001b[37m\u001b[0m \u001b[1m0s\u001b[0m 36ms/step - accuracy: 0.8398 - loss: 0.3268 - val_accuracy: 0.9500 - val_loss: 0.2070\n",
            "Epoch 96/100\n",
            "\u001b[1m3/3\u001b[0m \u001b[32m━━━━━━━━━━━━━━━━━━━━\u001b[0m\u001b[37m\u001b[0m \u001b[1m0s\u001b[0m 55ms/step - accuracy: 0.8789 - loss: 0.2908 - val_accuracy: 0.9500 - val_loss: 0.2055\n",
            "Epoch 97/100\n",
            "\u001b[1m3/3\u001b[0m \u001b[32m━━━━━━━━━━━━━━━━━━━━\u001b[0m\u001b[37m\u001b[0m \u001b[1m1s\u001b[0m 185ms/step - accuracy: 0.8711 - loss: 0.3053 - val_accuracy: 0.9500 - val_loss: 0.2048\n",
            "Epoch 98/100\n",
            "\u001b[1m3/3\u001b[0m \u001b[32m━━━━━━━━━━━━━━━━━━━━\u001b[0m\u001b[37m\u001b[0m \u001b[1m1s\u001b[0m 188ms/step - accuracy: 0.8633 - loss: 0.2998 - val_accuracy: 0.9500 - val_loss: 0.2037\n",
            "Epoch 99/100\n",
            "\u001b[1m3/3\u001b[0m \u001b[32m━━━━━━━━━━━━━━━━━━━━\u001b[0m\u001b[37m\u001b[0m \u001b[1m0s\u001b[0m 48ms/step - accuracy: 0.8672 - loss: 0.3212 - val_accuracy: 0.9500 - val_loss: 0.2021\n",
            "Epoch 100/100\n",
            "\u001b[1m3/3\u001b[0m \u001b[32m━━━━━━━━━━━━━━━━━━━━\u001b[0m\u001b[37m\u001b[0m \u001b[1m0s\u001b[0m 46ms/step - accuracy: 0.8789 - loss: 0.2983 - val_accuracy: 0.9500 - val_loss: 0.2003\n"
          ]
        }
      ]
    },
    {
      "cell_type": "code",
      "source": [
        "model.get_weights()"
      ],
      "metadata": {
        "colab": {
          "base_uri": "https://localhost:8080/"
        },
        "id": "g17AszQDXqa0",
        "outputId": "070d740e-254e-4052-b58e-45cbd76fa73c"
      },
      "execution_count": null,
      "outputs": [
        {
          "output_type": "execute_result",
          "data": {
            "text/plain": [
              "[array([[-1.2847152 ,  0.71227884,  1.244914  ,  0.4222643 ,  1.1805035 ,\n",
              "         -1.3119242 , -0.6901122 , -1.9714301 , -0.21458438, -0.04112228],\n",
              "        [ 1.6642259 , -1.235529  , -0.85528755, -0.646946  , -0.99788135,\n",
              "          0.18695892, -0.5783566 ,  1.566899  ,  1.3691293 ,  1.6994152 ]],\n",
              "       dtype=float32),\n",
              " array([ 0.16840625, -0.00973564, -0.1824832 , -0.07759994,  0.07870293,\n",
              "        -0.04191913,  0.102179  ,  0.07276157, -0.05154998,  0.04420632],\n",
              "       dtype=float32),\n",
              " array([[-0.55720806,  0.40353143, -0.1187361 ,  0.15967692,  0.7777237 ,\n",
              "         -0.43070745, -0.9354402 , -0.36105374, -0.7506926 , -0.10022552],\n",
              "        [-0.34139338,  0.68792725, -0.3265849 , -0.3015848 ,  0.34746498,\n",
              "          0.10920981, -0.17097701, -0.6483618 ,  0.20247729, -0.2452381 ],\n",
              "        [-0.43920746, -0.38361773, -0.10088128, -0.7787465 ,  0.05641869,\n",
              "          0.46661174, -0.15802845, -0.22036979, -0.14693652,  0.14416938],\n",
              "        [-0.8273352 , -0.30653718,  0.60433406, -0.21464536,  0.14899978,\n",
              "          0.31613448,  0.32113194, -0.4342183 , -0.14935263, -0.21157561],\n",
              "        [ 0.4514738 , -0.60858035, -0.8806369 ,  0.6442243 ,  0.763494  ,\n",
              "          0.08770575,  0.17846502, -0.12610376, -0.47441557, -0.06588445],\n",
              "        [ 0.6913209 ,  0.5948491 , -0.68766046, -0.26852483,  1.0024941 ,\n",
              "          0.38899568, -0.3914761 , -0.41967037, -0.3659353 ,  0.07135095],\n",
              "        [ 0.09192041,  0.26118928, -0.4392614 , -0.9151121 ,  0.24469481,\n",
              "          0.6601231 , -0.4756105 , -0.01064887,  0.43993333, -0.12866509],\n",
              "        [-0.13789338,  0.7732879 ,  0.10306654, -0.380951  ,  0.5129476 ,\n",
              "         -0.4456907 ,  0.4998769 , -0.5414354 , -0.20473062,  0.13033032],\n",
              "        [ 0.05549142,  0.5101511 , -0.7863926 ,  0.11236485,  0.02252989,\n",
              "          0.837646  ,  0.2969667 , -0.73357695,  0.06626067,  0.82033783],\n",
              "        [ 0.9728208 ,  0.35609192,  0.25004327,  0.8615207 , -0.19431661,\n",
              "          0.38825122,  0.2233054 , -0.27641082, -0.38860807,  0.11039329]],\n",
              "       dtype=float32),\n",
              " array([ 0.10903735, -0.05787304,  0.        ,  0.03704129,  0.1183775 ,\n",
              "        -0.03665378, -0.07894871,  0.        ,  0.        , -0.04782014],\n",
              "       dtype=float32),\n",
              " array([[ 0.32991174, -0.17842194, -0.95637274,  1.2625937 ,  0.14595087,\n",
              "         -0.7659457 ,  0.07453797, -0.22506146,  0.26217952, -0.07961182],\n",
              "        [ 0.1534048 ,  0.50114024, -0.13257094, -0.7354737 ,  0.13196664,\n",
              "         -0.87276644, -0.50201094, -0.3009644 ,  0.8439655 ,  0.17487311],\n",
              "        [ 0.17265543,  0.01587357,  0.11259933,  0.26563343, -0.4765823 ,\n",
              "         -0.33243394, -0.85407543, -0.81604284,  0.40103468, -0.01128135],\n",
              "        [ 0.07666272,  0.7433206 ,  0.38419586, -0.11352216, -0.33687785,\n",
              "         -0.8186643 ,  0.01428946,  0.9351308 ,  0.8792725 , -0.22254883],\n",
              "        [ 0.3235399 , -0.82815427,  0.8744112 , -0.02663761,  0.3543805 ,\n",
              "          0.643388  , -0.1330074 , -0.11212856, -0.17155273,  0.9749653 ],\n",
              "        [ 0.5351207 ,  0.25069305,  0.23855534, -0.24448371, -0.14989416,\n",
              "          0.85603684,  0.06566093, -0.3900613 ,  0.71384716, -0.13200644],\n",
              "        [ 0.29886615,  0.6519438 ,  0.14271453,  0.36548856,  0.7444704 ,\n",
              "         -0.01789415,  0.30361104, -0.63359034,  0.11156032,  0.55834967],\n",
              "        [ 0.01053367,  0.11083572, -0.54821813, -0.46569002,  0.90980655,\n",
              "          0.06221433,  0.5365196 ,  0.28078935, -0.06037975,  0.27903053],\n",
              "        [-0.5941118 , -0.4195879 , -0.55485994,  0.6147248 ,  0.1995141 ,\n",
              "          0.00391849,  0.19730043,  0.4840134 , -0.26687264,  0.38976893],\n",
              "        [ 0.321492  ,  0.18130626, -0.65750337,  0.2947152 ,  0.3135929 ,\n",
              "          0.5593423 , -0.23059034, -0.5996062 ,  0.7068305 , -0.17018944]],\n",
              "       dtype=float32),\n",
              " array([ 0.18574095, -0.06721827,  0.12020302,  0.12038226, -0.1259398 ,\n",
              "         0.18586537, -0.05890448,  0.09283346, -0.13715744, -0.0099514 ],\n",
              "       dtype=float32),\n",
              " array([[-5.2382803e-01,  4.8759907e-01,  1.7376813e-01, -9.5721352e-01,\n",
              "          1.0934018e-01, -4.8254940e-01, -5.8091646e-01,  2.7227515e-01,\n",
              "          4.4641545e-01, -1.4679413e-01],\n",
              "        [-1.2014869e-01, -4.2637404e-02, -2.0112951e-01, -7.2273171e-01,\n",
              "         -2.8423178e-01,  9.2120725e-01, -1.4778785e-01,  7.7978158e-01,\n",
              "         -1.6300773e-02,  3.5153389e-01],\n",
              "        [-1.6421013e-01, -1.2417950e-01,  1.4822067e-04,  1.9770215e-01,\n",
              "          8.1261206e-01,  2.1144702e-01, -5.4216790e-01, -2.7764347e-01,\n",
              "          3.2907251e-01, -9.0967011e-01],\n",
              "        [-6.3891101e-01,  2.3101687e-03,  1.2289512e+00,  3.7045661e-01,\n",
              "          9.8993891e-01, -5.0997192e-01,  7.2113074e-02,  9.0834683e-01,\n",
              "          1.3387063e-01,  1.8127577e-01],\n",
              "        [ 5.9058458e-01, -3.9001727e-01,  3.3368632e-01, -3.5934681e-01,\n",
              "          2.7172735e-01,  4.1931418e-01, -1.0502154e+00,  4.6522048e-01,\n",
              "          1.0568187e-01, -8.2939124e-01],\n",
              "        [ 5.1352985e-02, -2.1624251e-01, -3.0201957e-01,  2.9480791e-02,\n",
              "         -8.8606060e-01, -4.6908495e-01, -4.5963973e-01,  2.7602404e-01,\n",
              "          7.5801963e-01,  5.1581061e-01],\n",
              "        [-5.4136109e-01, -1.7096052e-01,  2.4144100e-01, -1.5786378e-01,\n",
              "         -6.5728837e-01,  4.6551853e-01,  6.5106326e-01,  8.9434046e-01,\n",
              "          6.9669187e-01,  2.9732662e-01],\n",
              "        [ 1.0061253e+00,  7.3709685e-01, -2.0724216e-01,  2.2646406e-01,\n",
              "         -3.0905271e-01, -3.9828876e-01,  2.9771441e-01, -3.9205781e-01,\n",
              "          6.6169435e-01, -9.6012753e-01],\n",
              "        [-2.8576621e-01, -7.3032206e-01,  7.7154398e-01, -2.2405919e-02,\n",
              "         -2.2023918e-02, -4.0558603e-01,  3.5189977e-01,  7.4157995e-01,\n",
              "         -3.0821019e-01,  6.5187579e-01],\n",
              "        [-5.7181692e-01,  1.7617626e-02,  3.7481511e-01,  8.3642043e-02,\n",
              "          9.2929289e-02,  7.8013825e-01, -6.7720097e-01, -4.5230323e-01,\n",
              "          6.6698372e-01, -2.4783939e-01]], dtype=float32),\n",
              " array([ 0.        , -0.08372177, -0.14958066,  0.        , -0.11664727,\n",
              "        -0.09745882, -0.0702251 , -0.1160414 ,  0.18719648,  0.088007  ],\n",
              "       dtype=float32),\n",
              " array([[-0.15043914],\n",
              "        [-0.557075  ],\n",
              "        [-0.4672367 ],\n",
              "        [ 0.68225247],\n",
              "        [-0.30904642],\n",
              "        [-0.39281407],\n",
              "        [ 0.51471055],\n",
              "        [-0.1190431 ],\n",
              "        [ 0.4806339 ],\n",
              "        [-0.3660406 ]], dtype=float32),\n",
              " array([0.15755676], dtype=float32)]"
            ]
          },
          "metadata": {},
          "execution_count": 34
        }
      ]
    },
    {
      "cell_type": "code",
      "source": [
        "from mlxtend.plotting import plot_decision_regions\n",
        "plot_decision_regions(X,y.astype('int'),clf=model,legend=2)"
      ],
      "metadata": {
        "colab": {
          "base_uri": "https://localhost:8080/",
          "height": 465
        },
        "id": "OMuhm7GaXvOf",
        "outputId": "faa34ab3-c91d-4116-aced-9b1c2be5331e"
      },
      "execution_count": null,
      "outputs": [
        {
          "output_type": "stream",
          "name": "stdout",
          "text": [
            "\u001b[1m9600/9600\u001b[0m \u001b[32m━━━━━━━━━━━━━━━━━━━━\u001b[0m\u001b[37m\u001b[0m \u001b[1m13s\u001b[0m 1ms/step\n"
          ]
        },
        {
          "output_type": "execute_result",
          "data": {
            "text/plain": [
              "<Axes: >"
            ]
          },
          "metadata": {},
          "execution_count": 36
        },
        {
          "output_type": "display_data",
          "data": {
            "text/plain": [
              "<Figure size 640x480 with 1 Axes>"
            ],
            "image/png": "[encoded data removed]"
          },
          "metadata": {}
        }
      ]
    },
    {
      "cell_type": "code",
      "source": [],
      "metadata": {
        "id": "HVdMxg_NX_AB"
      },
      "execution_count": null,
      "outputs": []
    }
  ]
}